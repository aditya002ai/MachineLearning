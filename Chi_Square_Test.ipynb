{
  "nbformat": 4,
  "nbformat_minor": 0,
  "metadata": {
    "colab": {
      "name": "Chi-Square Test.ipynb",
      "provenance": [],
      "authorship_tag": "ABX9TyN1XSFis8BcHubusvrfGNDI",
      "include_colab_link": true
    },
    "kernelspec": {
      "name": "python3",
      "display_name": "Python 3"
    },
    "language_info": {
      "name": "python"
    }
  },
  "cells": [
    {
      "cell_type": "markdown",
      "metadata": {
        "id": "view-in-github",
        "colab_type": "text"
      },
      "source": [
        "<a href=\"https://colab.research.google.com/github/aditya002ai/MachineLearning/blob/main/Chi_Square_Test.ipynb\" target=\"_parent\"><img src=\"https://colab.research.google.com/assets/colab-badge.svg\" alt=\"Open In Colab\"/></a>"
      ]
    },
    {
      "cell_type": "markdown",
      "metadata": {
        "id": "k60eOTR20KaH"
      },
      "source": [
        "**This test is applied when there is two categorical variable from single population. It is used to determine whether there is a significance between the two variable **"
      ]
    },
    {
      "cell_type": "code",
      "metadata": {
        "id": "k5jI_u0t0EbZ"
      },
      "source": [
        "import scipy.stats as stats\n",
        "import pandas as pd\n",
        "import numpy as np\n",
        "import seaborn as sns"
      ],
      "execution_count": 1,
      "outputs": []
    },
    {
      "cell_type": "code",
      "metadata": {
        "colab": {
          "base_uri": "https://localhost:8080/",
          "height": 204
        },
        "id": "yKwvjw5P1Zfs",
        "outputId": "577fd4aa-4e0a-499b-c58e-8ad75c756eac"
      },
      "source": [
        "dataset = sns.load_dataset('tips')\n",
        "dataset.head()"
      ],
      "execution_count": 3,
      "outputs": [
        {
          "output_type": "execute_result",
          "data": {
            "text/html": [
              "<div>\n",
              "<style scoped>\n",
              "    .dataframe tbody tr th:only-of-type {\n",
              "        vertical-align: middle;\n",
              "    }\n",
              "\n",
              "    .dataframe tbody tr th {\n",
              "        vertical-align: top;\n",
              "    }\n",
              "\n",
              "    .dataframe thead th {\n",
              "        text-align: right;\n",
              "    }\n",
              "</style>\n",
              "<table border=\"1\" class=\"dataframe\">\n",
              "  <thead>\n",
              "    <tr style=\"text-align: right;\">\n",
              "      <th></th>\n",
              "      <th>total_bill</th>\n",
              "      <th>tip</th>\n",
              "      <th>sex</th>\n",
              "      <th>smoker</th>\n",
              "      <th>day</th>\n",
              "      <th>time</th>\n",
              "      <th>size</th>\n",
              "    </tr>\n",
              "  </thead>\n",
              "  <tbody>\n",
              "    <tr>\n",
              "      <th>0</th>\n",
              "      <td>16.99</td>\n",
              "      <td>1.01</td>\n",
              "      <td>Female</td>\n",
              "      <td>No</td>\n",
              "      <td>Sun</td>\n",
              "      <td>Dinner</td>\n",
              "      <td>2</td>\n",
              "    </tr>\n",
              "    <tr>\n",
              "      <th>1</th>\n",
              "      <td>10.34</td>\n",
              "      <td>1.66</td>\n",
              "      <td>Male</td>\n",
              "      <td>No</td>\n",
              "      <td>Sun</td>\n",
              "      <td>Dinner</td>\n",
              "      <td>3</td>\n",
              "    </tr>\n",
              "    <tr>\n",
              "      <th>2</th>\n",
              "      <td>21.01</td>\n",
              "      <td>3.50</td>\n",
              "      <td>Male</td>\n",
              "      <td>No</td>\n",
              "      <td>Sun</td>\n",
              "      <td>Dinner</td>\n",
              "      <td>3</td>\n",
              "    </tr>\n",
              "    <tr>\n",
              "      <th>3</th>\n",
              "      <td>23.68</td>\n",
              "      <td>3.31</td>\n",
              "      <td>Male</td>\n",
              "      <td>No</td>\n",
              "      <td>Sun</td>\n",
              "      <td>Dinner</td>\n",
              "      <td>2</td>\n",
              "    </tr>\n",
              "    <tr>\n",
              "      <th>4</th>\n",
              "      <td>24.59</td>\n",
              "      <td>3.61</td>\n",
              "      <td>Female</td>\n",
              "      <td>No</td>\n",
              "      <td>Sun</td>\n",
              "      <td>Dinner</td>\n",
              "      <td>4</td>\n",
              "    </tr>\n",
              "  </tbody>\n",
              "</table>\n",
              "</div>"
            ],
            "text/plain": [
              "   total_bill   tip     sex smoker  day    time  size\n",
              "0       16.99  1.01  Female     No  Sun  Dinner     2\n",
              "1       10.34  1.66    Male     No  Sun  Dinner     3\n",
              "2       21.01  3.50    Male     No  Sun  Dinner     3\n",
              "3       23.68  3.31    Male     No  Sun  Dinner     2\n",
              "4       24.59  3.61  Female     No  Sun  Dinner     4"
            ]
          },
          "metadata": {
            "tags": []
          },
          "execution_count": 3
        }
      ]
    },
    {
      "cell_type": "code",
      "metadata": {
        "colab": {
          "base_uri": "https://localhost:8080/"
        },
        "id": "_1RijT2Cr15m",
        "outputId": "c8f47010-b478-4bab-9a8f-32bc8c162927"
      },
      "source": [
        "dataset_table = pd.crosstab(dataset['sex'],dataset['smoker'])\n",
        "print(dataset_table)"
      ],
      "execution_count": 6,
      "outputs": [
        {
          "output_type": "stream",
          "text": [
            "smoker  Yes  No\n",
            "sex            \n",
            "Male     60  97\n",
            "Female   33  54\n"
          ],
          "name": "stdout"
        }
      ]
    },
    {
      "cell_type": "code",
      "metadata": {
        "colab": {
          "base_uri": "https://localhost:8080/"
        },
        "id": "WqUc2rM9s9XV",
        "outputId": "ad75e6ec-e84e-4af6-c328-a7c90eb94d55"
      },
      "source": [
        "# Observed value\n",
        "Observed_value = dataset_table.values\n",
        "print('Observed value ',dataset_table.values)"
      ],
      "execution_count": 17,
      "outputs": [
        {
          "output_type": "stream",
          "text": [
            "Observed value  [[60 97]\n",
            " [33 54]]\n"
          ],
          "name": "stdout"
        }
      ]
    },
    {
      "cell_type": "code",
      "metadata": {
        "colab": {
          "base_uri": "https://localhost:8080/"
        },
        "id": "Rh5YpmABtbhY",
        "outputId": "a4fbb100-cf74-4e33-a1ff-bd9d3f19af3a"
      },
      "source": [
        "val = stats.chi2_contingency(dataset_table)\n",
        "val"
      ],
      "execution_count": 11,
      "outputs": [
        {
          "output_type": "execute_result",
          "data": {
            "text/plain": [
              "(0.008763290531773594, 0.925417020494423, 1, array([[59.84016393, 97.15983607],\n",
              "        [33.15983607, 53.84016393]]))"
            ]
          },
          "metadata": {
            "tags": []
          },
          "execution_count": 11
        }
      ]
    },
    {
      "cell_type": "code",
      "metadata": {
        "colab": {
          "base_uri": "https://localhost:8080/"
        },
        "id": "VUfJlmuStrkx",
        "outputId": "d4a95161-f661-40b3-d092-df4c628072ee"
      },
      "source": [
        "ExpectedValue = val[3]\n",
        "ExpectedValue"
      ],
      "execution_count": 13,
      "outputs": [
        {
          "output_type": "execute_result",
          "data": {
            "text/plain": [
              "array([[59.84016393, 97.15983607],\n",
              "       [33.15983607, 53.84016393]])"
            ]
          },
          "metadata": {
            "tags": []
          },
          "execution_count": 13
        }
      ]
    },
    {
      "cell_type": "code",
      "metadata": {
        "colab": {
          "base_uri": "https://localhost:8080/"
        },
        "id": "Jw2nTy7bvhMv",
        "outputId": "a850f7f6-5afc-48fe-8d8c-c09ebcc9c8bd"
      },
      "source": [
        "no_of_rows = len(dataset_table.iloc[0:2,0])\n",
        "no_of_column  = len(dataset.iloc[0,0:2])\n",
        "ddof = (no_of_rows-1)*(no_of_rows-1)\n",
        "print('Degree of Freedom',ddof)\n",
        "alpha = 0.05"
      ],
      "execution_count": 15,
      "outputs": [
        {
          "output_type": "stream",
          "text": [
            "Degree of Freedom 1\n"
          ],
          "name": "stdout"
        }
      ]
    },
    {
      "cell_type": "code",
      "metadata": {
        "colab": {
          "base_uri": "https://localhost:8080/"
        },
        "id": "hfK92QcUxlA7",
        "outputId": "93e329ba-9538-4023-897e-843145808fde"
      },
      "source": [
        "from scipy.stats import chi2\n",
        "chi_square = sum([(o-e)**2./e for o,e in zip(Observed_value,ExpectedValue)])\n",
        "chi_square"
      ],
      "execution_count": 18,
      "outputs": [
        {
          "output_type": "execute_result",
          "data": {
            "text/plain": [
              "array([0.00119737, 0.00073745])"
            ]
          },
          "metadata": {
            "tags": []
          },
          "execution_count": 18
        }
      ]
    },
    {
      "cell_type": "code",
      "metadata": {
        "colab": {
          "base_uri": "https://localhost:8080/"
        },
        "id": "I7bJFz2xyvkp",
        "outputId": "cd486958-3e2c-4f67-819e-aa2b8b0b72dd"
      },
      "source": [
        "chi_square_statistic = chi_square[0]+chi_square[1]\n",
        "print('chi_square_statistic',chi_square_statistic)"
      ],
      "execution_count": 19,
      "outputs": [
        {
          "output_type": "stream",
          "text": [
            "chi_square_statistic 0.001934818536627623\n"
          ],
          "name": "stdout"
        }
      ]
    },
    {
      "cell_type": "code",
      "metadata": {
        "colab": {
          "base_uri": "https://localhost:8080/"
        },
        "id": "W8HhqrT-zxLZ",
        "outputId": "f742e39d-25d2-4e7f-a3dc-254c5e30411d"
      },
      "source": [
        "critical_value = chi2.ppf(q=1-alpha,df=ddof)\n",
        "critical_value"
      ],
      "execution_count": 20,
      "outputs": [
        {
          "output_type": "execute_result",
          "data": {
            "text/plain": [
              "3.841458820694124"
            ]
          },
          "metadata": {
            "tags": []
          },
          "execution_count": 20
        }
      ]
    },
    {
      "cell_type": "code",
      "metadata": {
        "colab": {
          "base_uri": "https://localhost:8080/"
        },
        "id": "BnPM9tR80W8L",
        "outputId": "b342288b-b8fc-4109-a8de-e292031a43b7"
      },
      "source": [
        "# p-value\n",
        "p_value = 1-chi2.cdf(x= chi_square_statistic, df= ddof)\n",
        "print('p-vlaue',p_value)\n",
        "print('Significance Level', alpha)\n",
        "print('Degree of Freedom ',ddof)"
      ],
      "execution_count": 21,
      "outputs": [
        {
          "output_type": "stream",
          "text": [
            "p-vlaue 0.964915107315732\n",
            "Significance Level 0.05\n",
            "Degree of Freedom  1\n"
          ],
          "name": "stdout"
        }
      ]
    },
    {
      "cell_type": "code",
      "metadata": {
        "colab": {
          "base_uri": "https://localhost:8080/"
        },
        "id": "Ib1B9nsF1rzM",
        "outputId": "83df8156-8770-4dd8-b53b-a3d05eeed0cb"
      },
      "source": [
        "if chi_square_statistic >= critical_value:\n",
        "  print('Reject H0, There is a relationship between 2 categorical variables')\n",
        "else:\n",
        "  print('Retain H0, There is no relationship between 2 categorical variables')"
      ],
      "execution_count": 26,
      "outputs": [
        {
          "output_type": "stream",
          "text": [
            "Retain H0, There is no relationship between 2 categorical variables\n"
          ],
          "name": "stdout"
        }
      ]
    },
    {
      "cell_type": "code",
      "metadata": {
        "colab": {
          "base_uri": "https://localhost:8080/"
        },
        "id": "WLJFh-cT2paA",
        "outputId": "adb670fe-3199-402a-addd-1852dc0a5e04"
      },
      "source": [
        "if p_value <= 0.05:\n",
        "  print('Reject H0, There is a relationship between 2 categorical variables')\n",
        "else:\n",
        "  print('Retain H0, There is no relationship between 2 categorical variables')"
      ],
      "execution_count": 27,
      "outputs": [
        {
          "output_type": "stream",
          "text": [
            "Retain H0, There is no relationship between 2 categorical variables\n"
          ],
          "name": "stdout"
        }
      ]
    }
  ]
}