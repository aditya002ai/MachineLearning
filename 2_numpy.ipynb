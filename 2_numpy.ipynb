{
  "nbformat": 4,
  "nbformat_minor": 0,
  "metadata": {
    "colab": {
      "name": "2_numpy.ipynb",
      "provenance": [],
      "collapsed_sections": [],
      "authorship_tag": "ABX9TyMuKwOMk6tw8TzupSo/81OZ",
      "include_colab_link": true
    },
    "kernelspec": {
      "name": "python3",
      "display_name": "Python 3"
    },
    "language_info": {
      "name": "python"
    }
  },
  "cells": [
    {
      "cell_type": "markdown",
      "metadata": {
        "id": "view-in-github",
        "colab_type": "text"
      },
      "source": [
        "<a href=\"https://colab.research.google.com/github/aditya002ai/MachineLearning/blob/main/2_numpy.ipynb\" target=\"_parent\"><img src=\"https://colab.research.google.com/assets/colab-badge.svg\" alt=\"Open In Colab\"/></a>"
      ]
    },
    {
      "cell_type": "markdown",
      "metadata": {
        "id": "iADX8zaCWF8k"
      },
      "source": [
        "\n",
        "\n",
        "> Numpy Tutorials\n",
        "\n"
      ]
    },
    {
      "cell_type": "code",
      "metadata": {
        "colab": {
          "base_uri": "https://localhost:8080/"
        },
        "id": "TvmBZyKtVuBj",
        "outputId": "257783ff-bdae-491c-eab8-b7c9633c9296"
      },
      "source": [
        "import numpy as np\n",
        "myList = [1,2,3,4,5,6]\n",
        "arr = np.array(myList)\n",
        "type(arr)\n",
        "print(arr)\n",
        "arr.shape"
      ],
      "execution_count": null,
      "outputs": [
        {
          "output_type": "stream",
          "text": [
            "[1 2 3 4 5 6]\n"
          ],
          "name": "stdout"
        },
        {
          "output_type": "execute_result",
          "data": {
            "text/plain": [
              "(6,)"
            ]
          },
          "metadata": {
            "tags": []
          },
          "execution_count": 5
        }
      ]
    },
    {
      "cell_type": "code",
      "metadata": {
        "colab": {
          "base_uri": "https://localhost:8080/"
        },
        "id": "BEDbAJUkXn_-",
        "outputId": "e26e1b9e-9c9b-4b18-86f1-be026e3ec2aa"
      },
      "source": [
        "myList1 = [1,2,3,4]\n",
        "myList2 = [2,3,4,5]\n",
        "myList3 = [9,7,6,8]\n",
        "\n",
        "arr  = np.array([myList1,myList2,myList3])\n",
        "arr\n",
        "arr.shape\n",
        "\n",
        "arr.reshape(4,3)"
      ],
      "execution_count": null,
      "outputs": [
        {
          "output_type": "execute_result",
          "data": {
            "text/plain": [
              "array([[1, 2, 3],\n",
              "       [4, 2, 3],\n",
              "       [4, 5, 9],\n",
              "       [7, 6, 8]])"
            ]
          },
          "metadata": {
            "tags": []
          },
          "execution_count": 10
        }
      ]
    },
    {
      "cell_type": "code",
      "metadata": {
        "colab": {
          "base_uri": "https://localhost:8080/"
        },
        "id": "OG1bOcWLckf-",
        "outputId": "8e6d6a6c-f662-400e-beb2-52b72d7feeda"
      },
      "source": [
        "arr[1:,1:3]"
      ],
      "execution_count": null,
      "outputs": [
        {
          "output_type": "execute_result",
          "data": {
            "text/plain": [
              "array([[3, 4],\n",
              "       [7, 6]])"
            ]
          },
          "metadata": {
            "tags": []
          },
          "execution_count": 21
        }
      ]
    },
    {
      "cell_type": "code",
      "metadata": {
        "colab": {
          "base_uri": "https://localhost:8080/"
        },
        "id": "FcU3ZcszclNx",
        "outputId": "ca16839d-4211-448a-8ef5-33738fc2a11d"
      },
      "source": [
        "arr= np.arange(0,10,step=2)\n",
        "# arr = np.linspace(1,10,50)\n",
        "arr[3:] = 30\n",
        "arr*2\n",
        "\n",
        "np.random.rand(4,4)\n"
      ],
      "execution_count": null,
      "outputs": [
        {
          "output_type": "execute_result",
          "data": {
            "text/plain": [
              "array([[0.80660419, 0.10379852, 0.14549872, 0.13958006],\n",
              "       [0.68514196, 0.1105094 , 0.46135039, 0.27656757],\n",
              "       [0.05477171, 0.60104613, 0.45891891, 0.42485709],\n",
              "       [0.17351492, 0.46683123, 0.468558  , 0.22639163]])"
            ]
          },
          "metadata": {
            "tags": []
          },
          "execution_count": 31
        }
      ]
    },
    {
      "cell_type": "code",
      "metadata": {
        "colab": {
          "base_uri": "https://localhost:8080/",
          "height": 386
        },
        "id": "zI2M5wv89ADV",
        "outputId": "9c092b0a-9285-4a6a-f3d6-76fbd4c21f62"
      },
      "source": [
        "import seaborn as sns\n",
        "import pandas as pd\n",
        "arr_ex = np.random.randn(4,4)\n",
        "\n",
        "sns.displot(pd.DataFrame(arr_ex.reshape(16,1)))"
      ],
      "execution_count": null,
      "outputs": [
        {
          "output_type": "execute_result",
          "data": {
            "text/plain": [
              "<seaborn.axisgrid.FacetGrid at 0x7fcf17c31110>"
            ]
          },
          "metadata": {
            "tags": []
          },
          "execution_count": 35
        },
        {
          "output_type": "display_data",
          "data": {
            "image/png": "[encoded data removed]",
            "text/plain": [
              "<Figure size 402.25x360 with 1 Axes>"
            ]
          },
          "metadata": {
            "tags": [],
            "needs_background": "light"
          }
        }
      ]
    },
    {
      "cell_type": "code",
      "metadata": {
        "id": "EhGut3JHB53t"
      },
      "source": [
        ""
      ],
      "execution_count": null,
      "outputs": []
    }
  ]
}