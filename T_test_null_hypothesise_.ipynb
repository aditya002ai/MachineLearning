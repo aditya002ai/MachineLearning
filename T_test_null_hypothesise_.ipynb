{
  "nbformat": 4,
  "nbformat_minor": 0,
  "metadata": {
    "colab": {
      "name": "T-test_null hypothesise .ipynb",
      "provenance": [],
      "authorship_tag": "ABX9TyP3kea7qU2EJky0Yy2WoIGo",
      "include_colab_link": true
    },
    "kernelspec": {
      "name": "python3",
      "display_name": "Python 3"
    },
    "language_info": {
      "name": "python"
    }
  },
  "cells": [
    {
      "cell_type": "markdown",
      "metadata": {
        "id": "view-in-github",
        "colab_type": "text"
      },
      "source": [
        "<a href=\"https://colab.research.google.com/github/aditya002ai/MachineLearning/blob/main/T_test_null_hypothesise_.ipynb\" target=\"_parent\"><img src=\"https://colab.research.google.com/assets/colab-badge.svg\" alt=\"Open In Colab\"/></a>"
      ]
    },
    {
      "cell_type": "markdown",
      "metadata": {
        "id": "i5U9fXzCh3LW"
      },
      "source": [
        ""
      ]
    },
    {
      "cell_type": "code",
      "metadata": {
        "id": "1yUnTvrFi5bO"
      },
      "source": [
        "import pandas as pd\n",
        "import numpy as np\n",
        "from scipy.stats import ttest_1samp"
      ],
      "execution_count": 7,
      "outputs": []
    },
    {
      "cell_type": "code",
      "metadata": {
        "colab": {
          "base_uri": "https://localhost:8080/"
        },
        "id": "yu2lSorVhlBB",
        "outputId": "0fa8c744-df26-477b-a0e7-a24de3fa1258"
      },
      "source": [
        "ages=[10,20,35,50,28,40,55,18,16,55,30,25,43,18,30,28,14,24,16,17,32,35,26,27,65,18,43,23,21,20,19,70]\n",
        "ages_mean = np.mean(ages)\n",
        "ages_mean"
      ],
      "execution_count": 4,
      "outputs": [
        {
          "output_type": "execute_result",
          "data": {
            "text/plain": [
              "30.34375"
            ]
          },
          "metadata": {
            "tags": []
          },
          "execution_count": 4
        }
      ]
    },
    {
      "cell_type": "code",
      "metadata": {
        "colab": {
          "base_uri": "https://localhost:8080/"
        },
        "id": "ekBb9EBqkHGd",
        "outputId": "35b4b065-be9e-46b1-8386-8148c3e0b943"
      },
      "source": [
        "sample_size = 10\n",
        "ages_sample =np.random.choice(ages,sample_size)\n",
        "ages_sample"
      ],
      "execution_count": 10,
      "outputs": [
        {
          "output_type": "execute_result",
          "data": {
            "text/plain": [
              "array([65, 14, 20, 18, 24, 23, 18, 70, 43, 32])"
            ]
          },
          "metadata": {
            "tags": []
          },
          "execution_count": 10
        }
      ]
    },
    {
      "cell_type": "code",
      "metadata": {
        "colab": {
          "base_uri": "https://localhost:8080/"
        },
        "id": "5OeYjl8_k3sx",
        "outputId": "fb1a2fbe-de25-412c-934a-f0e7562b7620"
      },
      "source": [
        "t_test,p_value = ttest_1samp(ages_sample,30)\n",
        "p_value"
      ],
      "execution_count": 11,
      "outputs": [
        {
          "output_type": "execute_result",
          "data": {
            "text/plain": [
              "0.681706021161897"
            ]
          },
          "metadata": {
            "tags": []
          },
          "execution_count": 11
        }
      ]
    },
    {
      "cell_type": "code",
      "metadata": {
        "colab": {
          "base_uri": "https://localhost:8080/"
        },
        "id": "uFA9MgNYjq0i",
        "outputId": "ab28f6aa-08ca-4826-ad6c-8d7b600c5ae4"
      },
      "source": [
        "if p_value < 0.05:\n",
        "  print(' we are rejecting null hypothesis')\n",
        "else:\n",
        "  print('we are accepting null hypothesis')\n"
      ],
      "execution_count": 12,
      "outputs": [
        {
          "output_type": "stream",
          "text": [
            "we are accepting null hypothesis\n"
          ],
          "name": "stdout"
        }
      ]
    }
  ]
}