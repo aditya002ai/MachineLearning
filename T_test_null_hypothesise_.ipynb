{
  "nbformat": 4,
  "nbformat_minor": 0,
  "metadata": {
    "colab": {
      "name": "T-test_null hypothesise .ipynb",
      "provenance": [],
      "authorship_tag": "ABX9TyMI8eTqY599C/j0/VtctC/s",
      "include_colab_link": true
    },
    "kernelspec": {
      "name": "python3",
      "display_name": "Python 3"
    },
    "language_info": {
      "name": "python"
    }
  },
  "cells": [
    {
      "cell_type": "markdown",
      "metadata": {
        "id": "view-in-github",
        "colab_type": "text"
      },
      "source": [
        "<a href=\"https://colab.research.google.com/github/aditya002ai/MachineLearning/blob/main/T_test_null_hypothesise_.ipynb\" target=\"_parent\"><img src=\"https://colab.research.google.com/assets/colab-badge.svg\" alt=\"Open In Colab\"/></a>"
      ]
    },
    {
      "cell_type": "markdown",
      "metadata": {
        "id": "i5U9fXzCh3LW"
      },
      "source": [
        ""
      ]
    },
    {
      "cell_type": "code",
      "metadata": {
        "id": "1yUnTvrFi5bO"
      },
      "source": [
        "import pandas as pd\n",
        "import numpy as np\n",
        "from scipy.stats import ttest_1samp"
      ],
      "execution_count": 7,
      "outputs": []
    },
    {
      "cell_type": "code",
      "metadata": {
        "colab": {
          "base_uri": "https://localhost:8080/"
        },
        "id": "yu2lSorVhlBB",
        "outputId": "0fa8c744-df26-477b-a0e7-a24de3fa1258"
      },
      "source": [
        "ages=[10,20,35,50,28,40,55,18,16,55,30,25,43,18,30,28,14,24,16,17,32,35,26,27,65,18,43,23,21,20,19,70]\n",
        "ages_mean = np.mean(ages)\n",
        "ages_mean"
      ],
      "execution_count": 4,
      "outputs": [
        {
          "output_type": "execute_result",
          "data": {
            "text/plain": [
              "30.34375"
            ]
          },
          "metadata": {
            "tags": []
          },
          "execution_count": 4
        }
      ]
    },
    {
      "cell_type": "code",
      "metadata": {
        "colab": {
          "base_uri": "https://localhost:8080/"
        },
        "id": "ekBb9EBqkHGd",
        "outputId": "35b4b065-be9e-46b1-8386-8148c3e0b943"
      },
      "source": [
        "sample_size = 10\n",
        "ages_sample =np.random.choice(ages,sample_size)\n",
        "ages_sample"
      ],
      "execution_count": 10,
      "outputs": [
        {
          "output_type": "execute_result",
          "data": {
            "text/plain": [
              "array([65, 14, 20, 18, 24, 23, 18, 70, 43, 32])"
            ]
          },
          "metadata": {
            "tags": []
          },
          "execution_count": 10
        }
      ]
    },
    {
      "cell_type": "code",
      "metadata": {
        "colab": {
          "base_uri": "https://localhost:8080/"
        },
        "id": "5OeYjl8_k3sx",
        "outputId": "fb1a2fbe-de25-412c-934a-f0e7562b7620"
      },
      "source": [
        "t_test,p_value = ttest_1samp(ages_sample,30)\n",
        "p_value"
      ],
      "execution_count": 11,
      "outputs": [
        {
          "output_type": "execute_result",
          "data": {
            "text/plain": [
              "0.681706021161897"
            ]
          },
          "metadata": {
            "tags": []
          },
          "execution_count": 11
        }
      ]
    },
    {
      "cell_type": "code",
      "metadata": {
        "colab": {
          "base_uri": "https://localhost:8080/"
        },
        "id": "uFA9MgNYjq0i",
        "outputId": "ab28f6aa-08ca-4826-ad6c-8d7b600c5ae4"
      },
      "source": [
        "if p_value < 0.05:\n",
        "  print(' we are rejecting null hypothesis')\n",
        "else:\n",
        "  print('we are accepting null hypothesis')\n"
      ],
      "execution_count": 12,
      "outputs": [
        {
          "output_type": "stream",
          "text": [
            "we are accepting null hypothesis\n"
          ],
          "name": "stdout"
        }
      ]
    },
    {
      "cell_type": "markdown",
      "metadata": {
        "id": "JGf2Wg3IooYx"
      },
      "source": [
        "***Other Example ***\n",
        "Consider a age of student in a college  and class A"
      ]
    },
    {
      "cell_type": "code",
      "metadata": {
        "id": "guSjQYPUohWV"
      },
      "source": [
        "import numpy as np\n",
        "import pandas as pd\n",
        "import math\n",
        "import scipy.stats as stats"
      ],
      "execution_count": 13,
      "outputs": []
    },
    {
      "cell_type": "code",
      "metadata": {
        "colab": {
          "base_uri": "https://localhost:8080/"
        },
        "id": "PR5MmROOp0OJ",
        "outputId": "7459914f-2588-44c7-b361-cc1a1214c626"
      },
      "source": [
        "np.random.seed(6)\n",
        "school_age = stats.poisson.rvs(loc=18, mu=35,size= 1500)\n",
        "classA_age = stats.poisson.rvs(loc=18, mu=30, size= 60)\n",
        "classA_age.mean()"
      ],
      "execution_count": 17,
      "outputs": [
        {
          "output_type": "execute_result",
          "data": {
            "text/plain": [
              "46.9"
            ]
          },
          "metadata": {
            "tags": []
          },
          "execution_count": 17
        }
      ]
    },
    {
      "cell_type": "code",
      "metadata": {
        "colab": {
          "base_uri": "https://localhost:8080/"
        },
        "id": "VefeoO8cs0yQ",
        "outputId": "73b5c23d-9e12-4b4e-8861-4a7e1ff1fe6d"
      },
      "source": [
        "_,p_value = stats.ttest_1samp(a=classA_age,popmean=school_age.mean())\n",
        "p_value"
      ],
      "execution_count": 19,
      "outputs": [
        {
          "output_type": "execute_result",
          "data": {
            "text/plain": [
              "1.139027071016194e-13"
            ]
          },
          "metadata": {
            "tags": []
          },
          "execution_count": 19
        }
      ]
    },
    {
      "cell_type": "code",
      "metadata": {
        "colab": {
          "base_uri": "https://localhost:8080/"
        },
        "id": "4uTXZ9QrtV1o",
        "outputId": "b779cf2a-b6c8-424e-97f4-3ca299d9f06b"
      },
      "source": [
        "if p_value < 0.05:\n",
        "  print(\"we are rejecting null hypothesis\")\n",
        "else:\n",
        "  print('we are accepting null hypothesis')"
      ],
      "execution_count": 20,
      "outputs": [
        {
          "output_type": "stream",
          "text": [
            "we are rejecting null hypothesis\n"
          ],
          "name": "stdout"
        }
      ]
    },
    {
      "cell_type": "markdown",
      "metadata": {
        "id": "nN_IrhKAu5sY"
      },
      "source": [
        "***Independent Sample t-test or 2 Sample t test***\n"
      ]
    },
    {
      "cell_type": "code",
      "metadata": {
        "colab": {
          "base_uri": "https://localhost:8080/"
        },
        "id": "pto1POj_vETM",
        "outputId": "3fda0296-042d-4696-8838-1a775ccf6a4a"
      },
      "source": [
        "np.random.seed(12)\n",
        "classB_age = stats.poisson.rvs(loc= 18, mu= 33, size=60)\n",
        "classB_age.mean()"
      ],
      "execution_count": 23,
      "outputs": [
        {
          "output_type": "execute_result",
          "data": {
            "text/plain": [
              "50.63333333333333"
            ]
          },
          "metadata": {
            "tags": []
          },
          "execution_count": 23
        }
      ]
    },
    {
      "cell_type": "code",
      "metadata": {
        "colab": {
          "base_uri": "https://localhost:8080/"
        },
        "id": "fWB3_L2UwL95",
        "outputId": "34633c3c-c3d8-4c99-ff3e-de0c22b98a62"
      },
      "source": [
        "_,p_value = stats.ttest_ind(a= classA_age, b= classB_age, equal_var= False)\n",
        "p_value"
      ],
      "execution_count": 24,
      "outputs": [
        {
          "output_type": "execute_result",
          "data": {
            "text/plain": [
              "0.00039942095100859375"
            ]
          },
          "metadata": {
            "tags": []
          },
          "execution_count": 24
        }
      ]
    },
    {
      "cell_type": "code",
      "metadata": {
        "colab": {
          "base_uri": "https://localhost:8080/"
        },
        "id": "LSQ3b2NAwoYy",
        "outputId": "0229e91d-f7a6-4d0f-d5b5-457d8ea81711"
      },
      "source": [
        "if p_value < 0.05:\n",
        "  print('we are rejecting null hypothesis')\n",
        "else:\n",
        "  print('we are accepting null hypothesis')"
      ],
      "execution_count": 25,
      "outputs": [
        {
          "output_type": "stream",
          "text": [
            "we are rejecting null hypothesis\n"
          ],
          "name": "stdout"
        }
      ]
    },
    {
      "cell_type": "markdown",
      "metadata": {
        "id": "jRETyn2IyLgv"
      },
      "source": [
        "*** Paired T test ***\n",
        "when you want to check how different samples from same group are, then you can go for paired T - test"
      ]
    },
    {
      "cell_type": "code",
      "metadata": {
        "colab": {
          "base_uri": "https://localhost:8080/"
        },
        "id": "RJJk8RmIymGY",
        "outputId": "c1a18b51-31d4-4be1-e9e6-c6a631f809ef"
      },
      "source": [
        "weight1 = [25,30,28,35,28,34,26,29,30,26,28,32,31,30,45]\n",
        "weight2 = weight1+stats.norm.rvs(scale= 5, loc= -1.25, size= 15)\n",
        "print(weight1)\n",
        "print(weight2)"
      ],
      "execution_count": 27,
      "outputs": [
        {
          "output_type": "stream",
          "text": [
            "[25, 30, 28, 35, 28, 34, 26, 29, 30, 26, 28, 32, 31, 30, 45]\n",
            "[16.1845637  24.93234756 27.99601605 25.80095696 21.85237039 33.36380814\n",
            " 33.19646047 28.63874933 28.9100301  34.41607782 21.43952644 27.08685451\n",
            " 33.96370697 34.13369994 46.03845269]\n"
          ],
          "name": "stdout"
        }
      ]
    },
    {
      "cell_type": "code",
      "metadata": {
        "colab": {
          "base_uri": "https://localhost:8080/",
          "height": 514
        },
        "id": "vM1Yep7q07A2",
        "outputId": "e54a45b1-d80a-4810-9317-30bd8330ba8c"
      },
      "source": [
        "weight_df = pd.DataFrame({\"weight_10\":np.array(weight1), \"weight_2\":np.array(weight2), \"weight change\":np.array(weight2)- np.array(weight1)})\n",
        "weight_df"
      ],
      "execution_count": 29,
      "outputs": [
        {
          "output_type": "execute_result",
          "data": {
            "text/html": [
              "<div>\n",
              "<style scoped>\n",
              "    .dataframe tbody tr th:only-of-type {\n",
              "        vertical-align: middle;\n",
              "    }\n",
              "\n",
              "    .dataframe tbody tr th {\n",
              "        vertical-align: top;\n",
              "    }\n",
              "\n",
              "    .dataframe thead th {\n",
              "        text-align: right;\n",
              "    }\n",
              "</style>\n",
              "<table border=\"1\" class=\"dataframe\">\n",
              "  <thead>\n",
              "    <tr style=\"text-align: right;\">\n",
              "      <th></th>\n",
              "      <th>weight_10</th>\n",
              "      <th>weight_2</th>\n",
              "      <th>weight change</th>\n",
              "    </tr>\n",
              "  </thead>\n",
              "  <tbody>\n",
              "    <tr>\n",
              "      <th>0</th>\n",
              "      <td>25</td>\n",
              "      <td>16.184564</td>\n",
              "      <td>-8.815436</td>\n",
              "    </tr>\n",
              "    <tr>\n",
              "      <th>1</th>\n",
              "      <td>30</td>\n",
              "      <td>24.932348</td>\n",
              "      <td>-5.067652</td>\n",
              "    </tr>\n",
              "    <tr>\n",
              "      <th>2</th>\n",
              "      <td>28</td>\n",
              "      <td>27.996016</td>\n",
              "      <td>-0.003984</td>\n",
              "    </tr>\n",
              "    <tr>\n",
              "      <th>3</th>\n",
              "      <td>35</td>\n",
              "      <td>25.800957</td>\n",
              "      <td>-9.199043</td>\n",
              "    </tr>\n",
              "    <tr>\n",
              "      <th>4</th>\n",
              "      <td>28</td>\n",
              "      <td>21.852370</td>\n",
              "      <td>-6.147630</td>\n",
              "    </tr>\n",
              "    <tr>\n",
              "      <th>5</th>\n",
              "      <td>34</td>\n",
              "      <td>33.363808</td>\n",
              "      <td>-0.636192</td>\n",
              "    </tr>\n",
              "    <tr>\n",
              "      <th>6</th>\n",
              "      <td>26</td>\n",
              "      <td>33.196460</td>\n",
              "      <td>7.196460</td>\n",
              "    </tr>\n",
              "    <tr>\n",
              "      <th>7</th>\n",
              "      <td>29</td>\n",
              "      <td>28.638749</td>\n",
              "      <td>-0.361251</td>\n",
              "    </tr>\n",
              "    <tr>\n",
              "      <th>8</th>\n",
              "      <td>30</td>\n",
              "      <td>28.910030</td>\n",
              "      <td>-1.089970</td>\n",
              "    </tr>\n",
              "    <tr>\n",
              "      <th>9</th>\n",
              "      <td>26</td>\n",
              "      <td>34.416078</td>\n",
              "      <td>8.416078</td>\n",
              "    </tr>\n",
              "    <tr>\n",
              "      <th>10</th>\n",
              "      <td>28</td>\n",
              "      <td>21.439526</td>\n",
              "      <td>-6.560474</td>\n",
              "    </tr>\n",
              "    <tr>\n",
              "      <th>11</th>\n",
              "      <td>32</td>\n",
              "      <td>27.086855</td>\n",
              "      <td>-4.913145</td>\n",
              "    </tr>\n",
              "    <tr>\n",
              "      <th>12</th>\n",
              "      <td>31</td>\n",
              "      <td>33.963707</td>\n",
              "      <td>2.963707</td>\n",
              "    </tr>\n",
              "    <tr>\n",
              "      <th>13</th>\n",
              "      <td>30</td>\n",
              "      <td>34.133700</td>\n",
              "      <td>4.133700</td>\n",
              "    </tr>\n",
              "    <tr>\n",
              "      <th>14</th>\n",
              "      <td>45</td>\n",
              "      <td>46.038453</td>\n",
              "      <td>1.038453</td>\n",
              "    </tr>\n",
              "  </tbody>\n",
              "</table>\n",
              "</div>"
            ],
            "text/plain": [
              "    weight_10   weight_2  weight change\n",
              "0          25  16.184564      -8.815436\n",
              "1          30  24.932348      -5.067652\n",
              "2          28  27.996016      -0.003984\n",
              "3          35  25.800957      -9.199043\n",
              "4          28  21.852370      -6.147630\n",
              "5          34  33.363808      -0.636192\n",
              "6          26  33.196460       7.196460\n",
              "7          29  28.638749      -0.361251\n",
              "8          30  28.910030      -1.089970\n",
              "9          26  34.416078       8.416078\n",
              "10         28  21.439526      -6.560474\n",
              "11         32  27.086855      -4.913145\n",
              "12         31  33.963707       2.963707\n",
              "13         30  34.133700       4.133700\n",
              "14         45  46.038453       1.038453"
            ]
          },
          "metadata": {
            "tags": []
          },
          "execution_count": 29
        }
      ]
    },
    {
      "cell_type": "code",
      "metadata": {
        "colab": {
          "base_uri": "https://localhost:8080/"
        },
        "id": "ez_JvdkR2bLu",
        "outputId": "1fadab6f-d300-4864-f9de-14db1ef161c0"
      },
      "source": [
        "_,p_value = stats.ttest_rel(a= weight1, b= weight2)\n",
        "p_value"
      ],
      "execution_count": 32,
      "outputs": [
        {
          "output_type": "execute_result",
          "data": {
            "text/plain": [
              "0.3844965760393534"
            ]
          },
          "metadata": {
            "tags": []
          },
          "execution_count": 32
        }
      ]
    },
    {
      "cell_type": "code",
      "metadata": {
        "colab": {
          "base_uri": "https://localhost:8080/"
        },
        "id": "UdTYhLoF5he5",
        "outputId": "3d2b4d03-d7c6-41ac-a2aa-f8968931d696"
      },
      "source": [
        "if p_value < 0.05:\n",
        "  print('we are rejecting null hypothesis')\n",
        "else:\n",
        "  print('we are accepting null hypothesis')"
      ],
      "execution_count": 33,
      "outputs": [
        {
          "output_type": "stream",
          "text": [
            "we are accepting null hypothesis\n"
          ],
          "name": "stdout"
        }
      ]
    }
  ]
}