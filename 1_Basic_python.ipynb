{
  "nbformat": 4,
  "nbformat_minor": 0,
  "metadata": {
    "colab": {
      "name": "1.Basic_python.ipynb",
      "provenance": [],
      "collapsed_sections": [],
      "authorship_tag": "ABX9TyPjg4NshtCe9ApN99+f34VB",
      "include_colab_link": true
    },
    "kernelspec": {
      "name": "python3",
      "display_name": "Python 3"
    }
  },
  "cells": [
    {
      "cell_type": "markdown",
      "metadata": {
        "id": "view-in-github",
        "colab_type": "text"
      },
      "source": [
        "<a href=\"https://colab.research.google.com/github/aditya002ai/MachineLearning/blob/main/1_Basic_python.ipynb\" target=\"_parent\"><img src=\"https://colab.research.google.com/assets/colab-badge.svg\" alt=\"Open In Colab\"/></a>"
      ]
    },
    {
      "cell_type": "markdown",
      "metadata": {
        "id": "PbOo48eB_25D"
      },
      "source": [
        "Basic python\n"
      ]
    },
    {
      "cell_type": "code",
      "metadata": {
        "colab": {
          "base_uri": "https://localhost:8080/"
        },
        "id": "oIxbyLvU_JTo",
        "outputId": "139bc438-3f3b-4820-bba4-80a87b1af231"
      },
      "source": [
        "False\n",
        "print(True,False)\n",
        "type(True)"
      ],
      "execution_count": null,
      "outputs": [
        {
          "output_type": "stream",
          "text": [
            "True False\n"
          ],
          "name": "stdout"
        },
        {
          "output_type": "execute_result",
          "data": {
            "text/plain": [
              "bool"
            ]
          },
          "metadata": {
            "tags": []
          },
          "execution_count": 1
        }
      ]
    },
    {
      "cell_type": "code",
      "metadata": {
        "colab": {
          "base_uri": "https://localhost:8080/"
        },
        "id": "KaOkTBE2_777",
        "outputId": "05893402-bfcd-4a00-b62d-858affa3b596"
      },
      "source": [
        "my_str = \"Aditya\"\n",
        "print(my_str.startswith('Ad'))\n",
        "\n",
        "str = 'aditya'\n",
        "print(str.isalnum())"
      ],
      "execution_count": null,
      "outputs": [
        {
          "output_type": "stream",
          "text": [
            "True\n",
            "True\n"
          ],
          "name": "stdout"
        }
      ]
    },
    {
      "cell_type": "markdown",
      "metadata": {
        "id": "tvsd85nkecJg"
      },
      "source": [
        "List"
      ]
    },
    {
      "cell_type": "code",
      "metadata": {
        "colab": {
          "base_uri": "https://localhost:8080/"
        },
        "id": "GpJLOzPMegb3",
        "outputId": "652d6648-8f6b-4808-8263-f5e0267aa978"
      },
      "source": [
        "type([])\n",
        "\n",
        "myList = ['Adi', 'Naren', '1',2,3]\n",
        "print(myList)\n",
        "myList.append('aditya')\n",
        "myList.insert(0,'Fist')\n",
        "len(myList)\n",
        "myList[1:7]\n"
      ],
      "execution_count": null,
      "outputs": [
        {
          "output_type": "stream",
          "text": [
            "['Adi', 'Naren', '1', 2, 3]\n"
          ],
          "name": "stdout"
        },
        {
          "output_type": "execute_result",
          "data": {
            "text/plain": [
              "['Adi', 'Naren', '1', 2, 3, 'aditya']"
            ]
          },
          "metadata": {
            "tags": []
          },
          "execution_count": 6
        }
      ]
    },
    {
      "cell_type": "markdown",
      "metadata": {
        "id": "xM6qGJGZeTt-"
      },
      "source": [
        "SETS  \n",
        "A set is an unordered collection data type that is iterable, mutable and has no duplicate elements.  set not having duplicate elements"
      ]
    },
    {
      "cell_type": "code",
      "metadata": {
        "colab": {
          "base_uri": "https://localhost:8080/"
        },
        "id": "WTmAnuNSeWEX",
        "outputId": "78b2c772-e0a8-4c16-d3a5-27803cea08e0"
      },
      "source": [
        "mySet = set()\n",
        "print(mySet)\n",
        "print(type(mySet))\n",
        "mySet = {\"aditya\",\"Roshan\",'Dipak','Aish','Kundan'}\n",
        "mySet.add('Gaurav')\n",
        "mySet.\n",
        "print(mySet)"
      ],
      "execution_count": null,
      "outputs": [
        {
          "output_type": "stream",
          "text": [
            "set()\n",
            "<class 'set'>\n",
            "{'aditya', 'Gaurav', 'Dipak', 'Kundan', 'Roshan', 'Aish'}\n"
          ],
          "name": "stdout"
        }
      ]
    },
    {
      "cell_type": "markdown",
      "metadata": {
        "id": "2yWkG4HZhmht"
      },
      "source": [
        "Dictionaries \n",
        "is a collection, which is unordered, changeable and indexed in Python."
      ]
    },
    {
      "cell_type": "code",
      "metadata": {
        "colab": {
          "base_uri": "https://localhost:8080/"
        },
        "id": "TNsewahNh7ps",
        "outputId": "24ccf106-95de-4833-ecfd-1feac8f0afb0"
      },
      "source": [
        " dic = {}\n",
        " type(dic)\n",
        " dic = {'car1':'Audi', 'car2':'Tata'}\n",
        " print(dic['car1'])\n",
        " for x in dic.values():\n",
        "   print(x)\n",
        "\n",
        "for x in dic:\n",
        "  print(x)\n",
        "\n",
        "for x in dic.items():\n",
        "  print(x)"
      ],
      "execution_count": null,
      "outputs": [
        {
          "output_type": "stream",
          "text": [
            "Audi\n",
            "Audi\n",
            "Tata\n",
            "car1\n",
            "car2\n",
            "('car1', 'Audi')\n",
            "('car2', 'Tata')\n"
          ],
          "name": "stdout"
        }
      ]
    },
    {
      "cell_type": "markdown",
      "metadata": {
        "id": "63m3ypL4kxdq"
      },
      "source": [
        "Tuples"
      ]
    },
    {
      "cell_type": "code",
      "metadata": {
        "id": "uAgMnzFck3ns"
      },
      "source": [
        "myTuple = ('krish', 'Aditya', 'john')"
      ],
      "execution_count": null,
      "outputs": []
    }
  ]
}