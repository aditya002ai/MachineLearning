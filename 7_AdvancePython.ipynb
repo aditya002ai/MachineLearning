{
  "nbformat": 4,
  "nbformat_minor": 0,
  "metadata": {
    "colab": {
      "name": "7_AdvancePython.ipynb",
      "provenance": [],
      "authorship_tag": "ABX9TyPErs1p0eQ8/nioIxUIPcUW",
      "include_colab_link": true
    },
    "kernelspec": {
      "name": "python3",
      "display_name": "Python 3"
    },
    "language_info": {
      "name": "python"
    }
  },
  "cells": [
    {
      "cell_type": "markdown",
      "metadata": {
        "id": "view-in-github",
        "colab_type": "text"
      },
      "source": [
        "<a href=\"https://colab.research.google.com/github/aditya002ai/MachineLearning/blob/main/7_AdvancePython.ipynb\" target=\"_parent\"><img src=\"https://colab.research.google.com/assets/colab-badge.svg\" alt=\"Open In Colab\"/></a>"
      ]
    },
    {
      "cell_type": "markdown",
      "metadata": {
        "id": "BVVB84JVR8ZU"
      },
      "source": [
        "***Functions***"
      ]
    },
    {
      "cell_type": "code",
      "metadata": {
        "id": "IPZUQZ9GRd6F",
        "colab": {
          "base_uri": "https://localhost:8080/"
        },
        "outputId": "9f0d099c-3bfd-482a-a3dd-4832d6c487c1"
      },
      "source": [
        "num = 2\n",
        "if num % 2==0:\n",
        "  print('Even Number')\n",
        "else:\n",
        "  print('Odd Number')\n"
      ],
      "execution_count": 3,
      "outputs": [
        {
          "output_type": "stream",
          "text": [
            "Even Number\n"
          ],
          "name": "stdout"
        }
      ]
    },
    {
      "cell_type": "code",
      "metadata": {
        "id": "Rxrnph6CYX1N"
      },
      "source": [
        "def findOddEven(num):\n",
        "  if num%2==0:\n",
        "    print('Even')\n",
        "  else:\n",
        "    print('odd')\n"
      ],
      "execution_count": 4,
      "outputs": []
    },
    {
      "cell_type": "code",
      "metadata": {
        "colab": {
          "base_uri": "https://localhost:8080/"
        },
        "id": "_2l02Xo8aNGY",
        "outputId": "5025b502-e645-425f-a14d-409672cfd2f4"
      },
      "source": [
        "print(findOddEven(11))"
      ],
      "execution_count": 6,
      "outputs": [
        {
          "output_type": "stream",
          "text": [
            "odd\n",
            "None\n"
          ],
          "name": "stdout"
        }
      ]
    },
    {
      "cell_type": "code",
      "metadata": {
        "id": "Jb1LqNZdaxH9"
      },
      "source": [
        "# print vs retur\n",
        "def myName(str):\n",
        "  # print(str)\n",
        "  return str"
      ],
      "execution_count": 11,
      "outputs": []
    },
    {
      "cell_type": "code",
      "metadata": {
        "colab": {
          "base_uri": "https://localhost:8080/",
          "height": 35
        },
        "id": "mTV30viqbUSX",
        "outputId": "c8902a66-2acb-42a1-f24c-74ac26d2af73"
      },
      "source": [
        "myName('Aditya')"
      ],
      "execution_count": 12,
      "outputs": [
        {
          "output_type": "execute_result",
          "data": {
            "application/vnd.google.colaboratory.intrinsic+json": {
              "type": "string"
            },
            "text/plain": [
              "'Aditya'"
            ]
          },
          "metadata": {
            "tags": []
          },
          "execution_count": 12
        }
      ]
    },
    {
      "cell_type": "code",
      "metadata": {
        "id": "G6YPN1FBcfNT"
      },
      "source": [
        "## ***Positional and keyword argument***\n",
        "\n",
        "def PositionalKeyWord(name, age =30):\n",
        "  print(\"My name is {} and my age is {}\".format(name,age))"
      ],
      "execution_count": 2,
      "outputs": []
    },
    {
      "cell_type": "code",
      "metadata": {
        "colab": {
          "base_uri": "https://localhost:8080/"
        },
        "id": "G39EXyY_dCZa",
        "outputId": "35ac7e14-f458-42d2-a36c-c794db2ebffd"
      },
      "source": [
        "PositionalKeyWord('Adi')"
      ],
      "execution_count": 4,
      "outputs": [
        {
          "output_type": "stream",
          "text": [
            "My name is Adi and my age is 30\n"
          ],
          "name": "stdout"
        }
      ]
    },
    {
      "cell_type": "code",
      "metadata": {
        "id": "GYeaawRDcmda"
      },
      "source": [
        "def hello(*args, **kwargd):\n",
        "\n",
        "  print(args)\n",
        "  print(kwargd)\n"
      ],
      "execution_count": 5,
      "outputs": []
    },
    {
      "cell_type": "code",
      "metadata": {
        "colab": {
          "base_uri": "https://localhost:8080/"
        },
        "id": "QKxt8WzpUyV6",
        "outputId": "79e664ac-1893-4526-829a-eeb28a32163a"
      },
      "source": [
        "hello(\"Aditya\",\"Kumar\",age=29,dob=2012)"
      ],
      "execution_count": 6,
      "outputs": [
        {
          "output_type": "stream",
          "text": [
            "('Aditya', 'Kumar')\n",
            "{'age': 29, 'dob': 2012}\n"
          ],
          "name": "stdout"
        }
      ]
    },
    {
      "cell_type": "code",
      "metadata": {
        "colab": {
          "base_uri": "https://localhost:8080/"
        },
        "id": "_tGuquwXVcM-",
        "outputId": "450fde7e-d030-4af9-dedf-5f2763ef6464"
      },
      "source": [
        "lst = [\"Adi\",\"Sonu\"]\n",
        "dist = {'age':30,'height':190}\n",
        "hello(*lst,**dist)"
      ],
      "execution_count": 8,
      "outputs": [
        {
          "output_type": "stream",
          "text": [
            "('Adi', 'Sonu')\n",
            "{'age': 30, 'height': 190}\n"
          ],
          "name": "stdout"
        }
      ]
    },
    {
      "cell_type": "code",
      "metadata": {
        "colab": {
          "base_uri": "https://localhost:8080/"
        },
        "id": "Zu18-xCMWZpp",
        "outputId": "4dde1f3b-6535-420b-bfcf-c0b15274da7c"
      },
      "source": [
        "lst=[1,2,3,4,5,6,7,8,9,10]\n",
        "def evenoddsum(lst):\n",
        "  even = 0\n",
        "  odd = 0\n",
        "  for i in lst:\n",
        "    if i%2==0:\n",
        "      even = even+i\n",
        "    else:\n",
        "      odd = odd+i\n",
        "  return even,odd\n",
        "\n",
        "evenoddsum(lst)"
      ],
      "execution_count": 9,
      "outputs": [
        {
          "output_type": "execute_result",
          "data": {
            "text/plain": [
              "(30, 25)"
            ]
          },
          "metadata": {
            "tags": []
          },
          "execution_count": 9
        }
      ]
    },
    {
      "cell_type": "markdown",
      "metadata": {
        "id": "ckrDXCbGakTv"
      },
      "source": [
        "***Lambda functions***"
      ]
    },
    {
      "cell_type": "code",
      "metadata": {
        "id": "KEzLcFrdmd3M"
      },
      "source": [
        "def additionNormal(a,b):\n",
        "  return a+b"
      ],
      "execution_count": 2,
      "outputs": []
    },
    {
      "cell_type": "code",
      "metadata": {
        "colab": {
          "base_uri": "https://localhost:8080/"
        },
        "id": "p7qgNIGDnGwK",
        "outputId": "3344e9ed-5c2b-4aa4-9c86-8e34a4980b14"
      },
      "source": [
        "additionNormal(5,5)"
      ],
      "execution_count": 3,
      "outputs": [
        {
          "output_type": "execute_result",
          "data": {
            "text/plain": [
              "10"
            ]
          },
          "metadata": {
            "tags": []
          },
          "execution_count": 3
        }
      ]
    },
    {
      "cell_type": "code",
      "metadata": {
        "id": "CEivZ_mOnMNP"
      },
      "source": [
        "addition = lambda a,b:a+b"
      ],
      "execution_count": 4,
      "outputs": []
    },
    {
      "cell_type": "code",
      "metadata": {
        "colab": {
          "base_uri": "https://localhost:8080/"
        },
        "id": "0beA_OTbn7In",
        "outputId": "b798bee6-6831-445a-96a1-fb70bb009eb9"
      },
      "source": [
        "addition(4,3)"
      ],
      "execution_count": 5,
      "outputs": [
        {
          "output_type": "execute_result",
          "data": {
            "text/plain": [
              "7"
            ]
          },
          "metadata": {
            "tags": []
          },
          "execution_count": 5
        }
      ]
    },
    {
      "cell_type": "code",
      "metadata": {
        "id": "BNYykuJrofnq"
      },
      "source": [
        "def even(num):\n",
        "  if num%2==0:\n",
        "    print('Even')\n",
        "  else :\n",
        "    print('odd')\n"
      ],
      "execution_count": 7,
      "outputs": []
    },
    {
      "cell_type": "code",
      "metadata": {
        "colab": {
          "base_uri": "https://localhost:8080/"
        },
        "id": "eHuxBKadpDvu",
        "outputId": "2517e70c-3770-4b17-f88d-97a5ec7d5735"
      },
      "source": [
        "even(5)"
      ],
      "execution_count": 9,
      "outputs": [
        {
          "output_type": "stream",
          "text": [
            "odd\n"
          ],
          "name": "stdout"
        }
      ]
    },
    {
      "cell_type": "code",
      "metadata": {
        "id": "jtV1U3xnp1wz"
      },
      "source": [
        "even1 = lambda num:num%2==0"
      ],
      "execution_count": 10,
      "outputs": []
    },
    {
      "cell_type": "code",
      "metadata": {
        "colab": {
          "base_uri": "https://localhost:8080/"
        },
        "id": "zL7phbFsp9A9",
        "outputId": "2d295367-9101-4713-b362-41a0677f6cf7"
      },
      "source": [
        "even1(5)"
      ],
      "execution_count": 12,
      "outputs": [
        {
          "output_type": "execute_result",
          "data": {
            "text/plain": [
              "False"
            ]
          },
          "metadata": {
            "tags": []
          },
          "execution_count": 12
        }
      ]
    },
    {
      "cell_type": "code",
      "metadata": {
        "id": "Nyf63DvOrqUG"
      },
      "source": [
        "add = lambda a,b,c:a+b+c"
      ],
      "execution_count": 13,
      "outputs": []
    },
    {
      "cell_type": "code",
      "metadata": {
        "colab": {
          "base_uri": "https://localhost:8080/"
        },
        "id": "kuz0H_f0sIUf",
        "outputId": "2c388d5b-4665-4d2f-b089-7975dd313c3a"
      },
      "source": [
        "add(2,2,2)"
      ],
      "execution_count": 14,
      "outputs": [
        {
          "output_type": "execute_result",
          "data": {
            "text/plain": [
              "6"
            ]
          },
          "metadata": {
            "tags": []
          },
          "execution_count": 14
        }
      ]
    },
    {
      "cell_type": "markdown",
      "metadata": {
        "id": "rgXAYCBlyPqb"
      },
      "source": [
        "***Map Function ***"
      ]
    },
    {
      "cell_type": "code",
      "metadata": {
        "id": "2U1557OG8vxc"
      },
      "source": [
        "def findEven(num):\n",
        "  if num%2==0:\n",
        "    return \"The value of even number is {}\".format(num)\n",
        "  else:\n",
        "    return \"The value of odd number is {}\".format(num)"
      ],
      "execution_count": 17,
      "outputs": []
    },
    {
      "cell_type": "code",
      "metadata": {
        "id": "5ao3sxTo9N1A",
        "outputId": "471806d9-3324-40df-8da0-254c2293a1a5",
        "colab": {
          "base_uri": "https://localhost:8080/",
          "height": 35
        }
      },
      "source": [
        "findEven(11)"
      ],
      "execution_count": 19,
      "outputs": [
        {
          "output_type": "execute_result",
          "data": {
            "application/vnd.google.colaboratory.intrinsic+json": {
              "type": "string"
            },
            "text/plain": [
              "'The value of odd number is 11'"
            ]
          },
          "metadata": {
            "tags": []
          },
          "execution_count": 19
        }
      ]
    },
    {
      "cell_type": "code",
      "metadata": {
        "id": "Kv34sV0Z9fX6",
        "outputId": "2b19b5a0-f790-4573-bf03-75b80b020760",
        "colab": {
          "base_uri": "https://localhost:8080/",
          "height": 163
        }
      },
      "source": [
        "findEven(13)"
      ],
      "execution_count": 1,
      "outputs": [
        {
          "output_type": "error",
          "ename": "NameError",
          "evalue": "ignored",
          "traceback": [
            "\u001b[0;31m---------------------------------------------------------------------------\u001b[0m",
            "\u001b[0;31mNameError\u001b[0m                                 Traceback (most recent call last)",
            "\u001b[0;32m<ipython-input-1-edbb8ecef6b5>\u001b[0m in \u001b[0;36m<module>\u001b[0;34m()\u001b[0m\n\u001b[0;32m----> 1\u001b[0;31m \u001b[0mfindEven\u001b[0m\u001b[0;34m(\u001b[0m\u001b[0;36m13\u001b[0m\u001b[0;34m)\u001b[0m\u001b[0;34m\u001b[0m\u001b[0;34m\u001b[0m\u001b[0m\n\u001b[0m",
            "\u001b[0;31mNameError\u001b[0m: name 'findEven' is not defined"
          ]
        }
      ]
    },
    {
      "cell_type": "code",
      "metadata": {
        "id": "zFs2qosOJnJY"
      },
      "source": [
        "list = [1,2,3,4,5,6,78,11,22,33,44,55,66,77,88,8]\n",
        "map(findEven(),list)"
      ],
      "execution_count": null,
      "outputs": []
    }
  ]
}