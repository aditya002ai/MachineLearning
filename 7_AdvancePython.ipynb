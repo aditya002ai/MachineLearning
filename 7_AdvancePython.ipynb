{
  "nbformat": 4,
  "nbformat_minor": 0,
  "metadata": {
    "colab": {
      "name": "7_AdvancePython.ipynb",
      "provenance": [],
      "authorship_tag": "ABX9TyPVqzarS/YkouXsc7KYwE2Z",
      "include_colab_link": true
    },
    "kernelspec": {
      "name": "python3",
      "display_name": "Python 3"
    },
    "language_info": {
      "name": "python"
    }
  },
  "cells": [
    {
      "cell_type": "markdown",
      "metadata": {
        "id": "view-in-github",
        "colab_type": "text"
      },
      "source": [
        "<a href=\"https://colab.research.google.com/github/aditya002ai/MachineLearning/blob/main/7_AdvancePython.ipynb\" target=\"_parent\"><img src=\"https://colab.research.google.com/assets/colab-badge.svg\" alt=\"Open In Colab\"/></a>"
      ]
    },
    {
      "cell_type": "markdown",
      "metadata": {
        "id": "BVVB84JVR8ZU"
      },
      "source": [
        "***Functions***"
      ]
    },
    {
      "cell_type": "code",
      "metadata": {
        "id": "IPZUQZ9GRd6F",
        "colab": {
          "base_uri": "https://localhost:8080/"
        },
        "outputId": "9f0d099c-3bfd-482a-a3dd-4832d6c487c1"
      },
      "source": [
        "num = 2\n",
        "if num % 2==0:\n",
        "  print('Even Number')\n",
        "else:\n",
        "  print('Odd Number')\n"
      ],
      "execution_count": 3,
      "outputs": [
        {
          "output_type": "stream",
          "text": [
            "Even Number\n"
          ],
          "name": "stdout"
        }
      ]
    },
    {
      "cell_type": "code",
      "metadata": {
        "id": "Rxrnph6CYX1N"
      },
      "source": [
        "def findOddEven(num):\n",
        "  if num%2==0:\n",
        "    print('Even')\n",
        "  else:\n",
        "    print('odd')\n"
      ],
      "execution_count": 4,
      "outputs": []
    },
    {
      "cell_type": "code",
      "metadata": {
        "id": "_2l02Xo8aNGY",
        "outputId": "5025b502-e645-425f-a14d-409672cfd2f4",
        "colab": {
          "base_uri": "https://localhost:8080/"
        }
      },
      "source": [
        "print(findOddEven(11))"
      ],
      "execution_count": 6,
      "outputs": [
        {
          "output_type": "stream",
          "text": [
            "odd\n",
            "None\n"
          ],
          "name": "stdout"
        }
      ]
    },
    {
      "cell_type": "code",
      "metadata": {
        "id": "Jb1LqNZdaxH9"
      },
      "source": [
        "# print vs retur\n",
        "def myName(str):\n",
        "  # print(str)\n",
        "  return str"
      ],
      "execution_count": 11,
      "outputs": []
    },
    {
      "cell_type": "code",
      "metadata": {
        "id": "mTV30viqbUSX",
        "outputId": "c8902a66-2acb-42a1-f24c-74ac26d2af73",
        "colab": {
          "base_uri": "https://localhost:8080/",
          "height": 35
        }
      },
      "source": [
        "myName('Aditya')"
      ],
      "execution_count": 12,
      "outputs": [
        {
          "output_type": "execute_result",
          "data": {
            "application/vnd.google.colaboratory.intrinsic+json": {
              "type": "string"
            },
            "text/plain": [
              "'Aditya'"
            ]
          },
          "metadata": {
            "tags": []
          },
          "execution_count": 12
        }
      ]
    },
    {
      "cell_type": "code",
      "metadata": {
        "id": "G6YPN1FBcfNT"
      },
      "source": [
        "## ***Positional and keyword argument***\n",
        "\n",
        "def PositionalKeyWord(name, age =30):\n",
        "  print(\"My name is {} and my age is {}\".format(name,age))"
      ],
      "execution_count": 2,
      "outputs": []
    },
    {
      "cell_type": "code",
      "metadata": {
        "id": "G39EXyY_dCZa",
        "outputId": "35ac7e14-f458-42d2-a36c-c794db2ebffd",
        "colab": {
          "base_uri": "https://localhost:8080/"
        }
      },
      "source": [
        "PositionalKeyWord('Adi')"
      ],
      "execution_count": 4,
      "outputs": [
        {
          "output_type": "stream",
          "text": [
            "My name is Adi and my age is 30\n"
          ],
          "name": "stdout"
        }
      ]
    },
    {
      "cell_type": "code",
      "metadata": {
        "id": "GYeaawRDcmda"
      },
      "source": [
        ""
      ],
      "execution_count": null,
      "outputs": []
    }
  ]
}