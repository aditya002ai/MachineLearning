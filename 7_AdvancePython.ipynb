{
  "nbformat": 4,
  "nbformat_minor": 0,
  "metadata": {
    "colab": {
      "name": "7_AdvancePython.ipynb",
      "provenance": [],
      "authorship_tag": "ABX9TyOzmmjN8aHChEhlX4tlHs+H",
      "include_colab_link": true
    },
    "kernelspec": {
      "name": "python3",
      "display_name": "Python 3"
    },
    "language_info": {
      "name": "python"
    }
  },
  "cells": [
    {
      "cell_type": "markdown",
      "metadata": {
        "id": "view-in-github",
        "colab_type": "text"
      },
      "source": [
        "<a href=\"https://colab.research.google.com/github/aditya002ai/MachineLearning/blob/main/7_AdvancePython.ipynb\" target=\"_parent\"><img src=\"https://colab.research.google.com/assets/colab-badge.svg\" alt=\"Open In Colab\"/></a>"
      ]
    },
    {
      "cell_type": "markdown",
      "metadata": {
        "id": "BVVB84JVR8ZU"
      },
      "source": [
        "***Functions***"
      ]
    },
    {
      "cell_type": "code",
      "metadata": {
        "id": "IPZUQZ9GRd6F",
        "colab": {
          "base_uri": "https://localhost:8080/",
          "height": 0
        },
        "outputId": "88fd652f-2c2e-4121-c052-0f9ae4872e4f"
      },
      "source": [
        "num = 2\n",
        "if num % 2==0:\n",
        "  print('Even Number')\n",
        "else:\n",
        "  print('Odd Number')\n"
      ],
      "execution_count": 1,
      "outputs": [
        {
          "output_type": "stream",
          "text": [
            "Even Number\n"
          ],
          "name": "stdout"
        }
      ]
    },
    {
      "cell_type": "code",
      "metadata": {
        "id": "Rxrnph6CYX1N"
      },
      "source": [
        "def findOddEven(num):\n",
        "  if num%2==0:\n",
        "    print('Even')\n",
        "  else:\n",
        "    print('odd')\n"
      ],
      "execution_count": 2,
      "outputs": []
    },
    {
      "cell_type": "code",
      "metadata": {
        "colab": {
          "base_uri": "https://localhost:8080/",
          "height": 0
        },
        "id": "_2l02Xo8aNGY",
        "outputId": "8e7214d1-0ff7-4e32-bc94-710db4ec67d3"
      },
      "source": [
        "print(findOddEven(11))"
      ],
      "execution_count": 3,
      "outputs": [
        {
          "output_type": "stream",
          "text": [
            "odd\n",
            "None\n"
          ],
          "name": "stdout"
        }
      ]
    },
    {
      "cell_type": "code",
      "metadata": {
        "id": "Jb1LqNZdaxH9"
      },
      "source": [
        "# print vs retur\n",
        "def myName(str):\n",
        "  # print(str)\n",
        "  return str"
      ],
      "execution_count": 4,
      "outputs": []
    },
    {
      "cell_type": "code",
      "metadata": {
        "colab": {
          "base_uri": "https://localhost:8080/",
          "height": 35
        },
        "id": "mTV30viqbUSX",
        "outputId": "ededed62-9d52-4a01-ff27-1f8c47fd663b"
      },
      "source": [
        "myName('Aditya')"
      ],
      "execution_count": 5,
      "outputs": [
        {
          "output_type": "execute_result",
          "data": {
            "application/vnd.google.colaboratory.intrinsic+json": {
              "type": "string"
            },
            "text/plain": [
              "'Aditya'"
            ]
          },
          "metadata": {
            "tags": []
          },
          "execution_count": 5
        }
      ]
    },
    {
      "cell_type": "code",
      "metadata": {
        "id": "G6YPN1FBcfNT"
      },
      "source": [
        "## ***Positional and keyword argument***\n",
        "\n",
        "def PositionalKeyWord(name, age =30):\n",
        "  print(\"My name is {} and my age is {}\".format(name,age))"
      ],
      "execution_count": 6,
      "outputs": []
    },
    {
      "cell_type": "code",
      "metadata": {
        "colab": {
          "base_uri": "https://localhost:8080/",
          "height": 0
        },
        "id": "G39EXyY_dCZa",
        "outputId": "f9285f0c-b18e-4e74-8202-019b539492c5"
      },
      "source": [
        "PositionalKeyWord('Adi')"
      ],
      "execution_count": 7,
      "outputs": [
        {
          "output_type": "stream",
          "text": [
            "My name is Adi and my age is 30\n"
          ],
          "name": "stdout"
        }
      ]
    },
    {
      "cell_type": "code",
      "metadata": {
        "id": "GYeaawRDcmda"
      },
      "source": [
        "def hello(*args, **kwargd):\n",
        "\n",
        "  print(args)\n",
        "  print(kwargd)\n"
      ],
      "execution_count": 8,
      "outputs": []
    },
    {
      "cell_type": "code",
      "metadata": {
        "colab": {
          "base_uri": "https://localhost:8080/",
          "height": 0
        },
        "id": "QKxt8WzpUyV6",
        "outputId": "d675c1eb-5236-4325-d7bf-a4decabc0577"
      },
      "source": [
        "hello(\"Aditya\",\"Kumar\",age=29,dob=2012)"
      ],
      "execution_count": 9,
      "outputs": [
        {
          "output_type": "stream",
          "text": [
            "('Aditya', 'Kumar')\n",
            "{'age': 29, 'dob': 2012}\n"
          ],
          "name": "stdout"
        }
      ]
    },
    {
      "cell_type": "code",
      "metadata": {
        "colab": {
          "base_uri": "https://localhost:8080/",
          "height": 0
        },
        "id": "_tGuquwXVcM-",
        "outputId": "1bd2f9f1-44f4-48f1-f5e2-9921b3d82546"
      },
      "source": [
        "lst = [\"Adi\",\"Sonu\"]\n",
        "dist = {'age':30,'height':190}\n",
        "hello(*lst,**dist)"
      ],
      "execution_count": 10,
      "outputs": [
        {
          "output_type": "stream",
          "text": [
            "('Adi', 'Sonu')\n",
            "{'age': 30, 'height': 190}\n"
          ],
          "name": "stdout"
        }
      ]
    },
    {
      "cell_type": "code",
      "metadata": {
        "colab": {
          "base_uri": "https://localhost:8080/",
          "height": 0
        },
        "id": "Zu18-xCMWZpp",
        "outputId": "03b32bf8-affe-468e-94e6-cd93ca89b2f4"
      },
      "source": [
        "lst=[1,2,3,4,5,6,7,8,9,10]\n",
        "def evenoddsum(lst):\n",
        "  even = 0\n",
        "  odd = 0\n",
        "  for i in lst:\n",
        "    if i%2==0:\n",
        "      even = even+i\n",
        "    else:\n",
        "      odd = odd+i\n",
        "  return even,odd\n",
        "\n",
        "evenoddsum(lst)"
      ],
      "execution_count": 11,
      "outputs": [
        {
          "output_type": "execute_result",
          "data": {
            "text/plain": [
              "(30, 25)"
            ]
          },
          "metadata": {
            "tags": []
          },
          "execution_count": 11
        }
      ]
    },
    {
      "cell_type": "markdown",
      "metadata": {
        "id": "ckrDXCbGakTv"
      },
      "source": [
        "***Lambda functions***"
      ]
    },
    {
      "cell_type": "code",
      "metadata": {
        "id": "KEzLcFrdmd3M"
      },
      "source": [
        "def additionNormal(a,b):\n",
        "  return a+b"
      ],
      "execution_count": 12,
      "outputs": []
    },
    {
      "cell_type": "code",
      "metadata": {
        "colab": {
          "base_uri": "https://localhost:8080/",
          "height": 0
        },
        "id": "p7qgNIGDnGwK",
        "outputId": "d6d7596a-bf12-4475-ba99-9c8e8eda8c7c"
      },
      "source": [
        "additionNormal(5,5)"
      ],
      "execution_count": 13,
      "outputs": [
        {
          "output_type": "execute_result",
          "data": {
            "text/plain": [
              "10"
            ]
          },
          "metadata": {
            "tags": []
          },
          "execution_count": 13
        }
      ]
    },
    {
      "cell_type": "code",
      "metadata": {
        "id": "CEivZ_mOnMNP"
      },
      "source": [
        "addition = lambda a,b:a+b"
      ],
      "execution_count": 14,
      "outputs": []
    },
    {
      "cell_type": "code",
      "metadata": {
        "colab": {
          "base_uri": "https://localhost:8080/",
          "height": 0
        },
        "id": "0beA_OTbn7In",
        "outputId": "25a43dee-7ea2-4bf4-b30d-8f0d4cab0366"
      },
      "source": [
        "addition(4,3)"
      ],
      "execution_count": 15,
      "outputs": [
        {
          "output_type": "execute_result",
          "data": {
            "text/plain": [
              "7"
            ]
          },
          "metadata": {
            "tags": []
          },
          "execution_count": 15
        }
      ]
    },
    {
      "cell_type": "code",
      "metadata": {
        "id": "BNYykuJrofnq"
      },
      "source": [
        "def even(num):\n",
        "  if num%2==0:\n",
        "    print('Even')\n",
        "  else :\n",
        "    print('odd')\n"
      ],
      "execution_count": 16,
      "outputs": []
    },
    {
      "cell_type": "code",
      "metadata": {
        "colab": {
          "base_uri": "https://localhost:8080/",
          "height": 0
        },
        "id": "eHuxBKadpDvu",
        "outputId": "d1409dbd-9319-447a-ad67-5b3c1c36042b"
      },
      "source": [
        "even(5)"
      ],
      "execution_count": 17,
      "outputs": [
        {
          "output_type": "stream",
          "text": [
            "odd\n"
          ],
          "name": "stdout"
        }
      ]
    },
    {
      "cell_type": "code",
      "metadata": {
        "id": "jtV1U3xnp1wz"
      },
      "source": [
        "even1 = lambda num:num%2==0"
      ],
      "execution_count": 18,
      "outputs": []
    },
    {
      "cell_type": "code",
      "metadata": {
        "colab": {
          "base_uri": "https://localhost:8080/",
          "height": 0
        },
        "id": "zL7phbFsp9A9",
        "outputId": "9d7e8ffa-a0d3-4521-b983-78e7a5baa892"
      },
      "source": [
        "even1(5)"
      ],
      "execution_count": 19,
      "outputs": [
        {
          "output_type": "execute_result",
          "data": {
            "text/plain": [
              "False"
            ]
          },
          "metadata": {
            "tags": []
          },
          "execution_count": 19
        }
      ]
    },
    {
      "cell_type": "code",
      "metadata": {
        "id": "Nyf63DvOrqUG"
      },
      "source": [
        "add = lambda a,b,c:a+b+c"
      ],
      "execution_count": 20,
      "outputs": []
    },
    {
      "cell_type": "code",
      "metadata": {
        "colab": {
          "base_uri": "https://localhost:8080/",
          "height": 0
        },
        "id": "kuz0H_f0sIUf",
        "outputId": "5f10ad81-40cb-4544-d5ca-5da22b95f1a0"
      },
      "source": [
        "add(2,2,2)"
      ],
      "execution_count": 21,
      "outputs": [
        {
          "output_type": "execute_result",
          "data": {
            "text/plain": [
              "6"
            ]
          },
          "metadata": {
            "tags": []
          },
          "execution_count": 21
        }
      ]
    },
    {
      "cell_type": "markdown",
      "metadata": {
        "id": "rgXAYCBlyPqb"
      },
      "source": [
        "***Map Function ***"
      ]
    },
    {
      "cell_type": "code",
      "metadata": {
        "id": "2U1557OG8vxc"
      },
      "source": [
        "def findEven(num):\n",
        "  if num%2==0:\n",
        "    return \"The value of even number is {}\".format(num)\n",
        "  else:\n",
        "    return \"The value of odd number is {}\".format(num)"
      ],
      "execution_count": 22,
      "outputs": []
    },
    {
      "cell_type": "code",
      "metadata": {
        "id": "5ao3sxTo9N1A",
        "colab": {
          "base_uri": "https://localhost:8080/",
          "height": 35
        },
        "outputId": "c94193ab-e2d0-4e3b-c1ea-8adb2e5b138c"
      },
      "source": [
        "findEven(11)"
      ],
      "execution_count": 23,
      "outputs": [
        {
          "output_type": "execute_result",
          "data": {
            "application/vnd.google.colaboratory.intrinsic+json": {
              "type": "string"
            },
            "text/plain": [
              "'The value of odd number is 11'"
            ]
          },
          "metadata": {
            "tags": []
          },
          "execution_count": 23
        }
      ]
    },
    {
      "cell_type": "code",
      "metadata": {
        "id": "Kv34sV0Z9fX6",
        "colab": {
          "base_uri": "https://localhost:8080/",
          "height": 35
        },
        "outputId": "eb06e194-54a1-42cd-ff7b-f0c0ffeeef6b"
      },
      "source": [
        "findEven(13)"
      ],
      "execution_count": 24,
      "outputs": [
        {
          "output_type": "execute_result",
          "data": {
            "application/vnd.google.colaboratory.intrinsic+json": {
              "type": "string"
            },
            "text/plain": [
              "'The value of odd number is 13'"
            ]
          },
          "metadata": {
            "tags": []
          },
          "execution_count": 24
        }
      ]
    },
    {
      "cell_type": "code",
      "metadata": {
        "id": "zFs2qosOJnJY",
        "outputId": "67233cd8-8782-486d-8f6d-2afd93c605c6",
        "colab": {
          "base_uri": "https://localhost:8080/",
          "height": 0
        }
      },
      "source": [
        "lt = [1,2,3,4,5,6,78,11,22,33,44,55,66,77,89,8]\n",
        "value = list(map(findEven,lt))\n",
        "value\n"
      ],
      "execution_count": 26,
      "outputs": [
        {
          "output_type": "execute_result",
          "data": {
            "text/plain": [
              "['The value of odd number is 1',\n",
              " 'The value of even number is 2',\n",
              " 'The value of odd number is 3',\n",
              " 'The value of even number is 4',\n",
              " 'The value of odd number is 5',\n",
              " 'The value of even number is 6',\n",
              " 'The value of even number is 78',\n",
              " 'The value of odd number is 11',\n",
              " 'The value of even number is 22',\n",
              " 'The value of odd number is 33',\n",
              " 'The value of even number is 44',\n",
              " 'The value of odd number is 55',\n",
              " 'The value of even number is 66',\n",
              " 'The value of odd number is 77',\n",
              " 'The value of odd number is 89',\n",
              " 'The value of even number is 8']"
            ]
          },
          "metadata": {
            "tags": []
          },
          "execution_count": 26
        }
      ]
    },
    {
      "cell_type": "markdown",
      "metadata": {
        "id": "IDT7LrjUPclu"
      },
      "source": [
        "***Filter function***"
      ]
    },
    {
      "cell_type": "code",
      "metadata": {
        "id": "2z1-gUW5Qyvo"
      },
      "source": [
        "def even(num):\n",
        "  if num%2==0:\n",
        "    return True"
      ],
      "execution_count": 28,
      "outputs": []
    },
    {
      "cell_type": "code",
      "metadata": {
        "id": "T06FPx1iM6gT",
        "outputId": "124f0a65-f5e6-4824-e182-3eb00a508bd3",
        "colab": {
          "base_uri": "https://localhost:8080/",
          "height": 0
        }
      },
      "source": [
        "list(filter(even,lt))"
      ],
      "execution_count": 29,
      "outputs": [
        {
          "output_type": "execute_result",
          "data": {
            "text/plain": [
              "[2, 4, 6, 78, 22, 44, 66, 8]"
            ]
          },
          "metadata": {
            "tags": []
          },
          "execution_count": 29
        }
      ]
    },
    {
      "cell_type": "code",
      "metadata": {
        "id": "z9iIlR6VRAp7",
        "outputId": "7c23202d-57b0-4fec-ee48-51220233ad8f",
        "colab": {
          "base_uri": "https://localhost:8080/",
          "height": 0
        }
      },
      "source": [
        "list(filter(lambda num:num%2==0,lt))"
      ],
      "execution_count": 30,
      "outputs": [
        {
          "output_type": "execute_result",
          "data": {
            "text/plain": [
              "[2, 4, 6, 78, 22, 44, 66, 8]"
            ]
          },
          "metadata": {
            "tags": []
          },
          "execution_count": 30
        }
      ]
    },
    {
      "cell_type": "markdown",
      "metadata": {
        "id": "wIdIlHR3RaZG"
      },
      "source": [
        "***List Comprehension***  \n",
        "\n",
        "List Comprehesion provide a concise way to create lists."
      ]
    },
    {
      "cell_type": "code",
      "metadata": {
        "id": "O0XWhlOGRkbx"
      },
      "source": [
        "lst = []\n",
        "def lst_square(lst1):\n",
        "  for i in lst1:\n",
        "    lst.append(i*i)\n",
        "  return lst\n"
      ],
      "execution_count": 33,
      "outputs": []
    },
    {
      "cell_type": "code",
      "metadata": {
        "id": "xLsbbN7IUhcw",
        "outputId": "815cd8ce-326b-4211-b6ec-8bb852229879",
        "colab": {
          "base_uri": "https://localhost:8080/",
          "height": 0
        }
      },
      "source": [
        "lst_square([1,2,3,4,5,6,7,8,9])"
      ],
      "execution_count": 34,
      "outputs": [
        {
          "output_type": "execute_result",
          "data": {
            "text/plain": [
              "[1, 4, 9, 16, 25, 36, 49, 64, 81]"
            ]
          },
          "metadata": {
            "tags": []
          },
          "execution_count": 34
        }
      ]
    },
    {
      "cell_type": "code",
      "metadata": {
        "id": "aCXVOIj0VEGy",
        "outputId": "4fe93cfe-597f-4ceb-f02b-57b247d75c12",
        "colab": {
          "base_uri": "https://localhost:8080/",
          "height": 0
        }
      },
      "source": [
        "mylist = [1,2,3,4,5,6,7,8,9]\n",
        "[i*i for i in mylist]"
      ],
      "execution_count": 35,
      "outputs": [
        {
          "output_type": "execute_result",
          "data": {
            "text/plain": [
              "[1, 4, 9, 16, 25, 36, 49, 64, 81]"
            ]
          },
          "metadata": {
            "tags": []
          },
          "execution_count": 35
        }
      ]
    },
    {
      "cell_type": "code",
      "metadata": {
        "id": "0ow0ksq1WJGv",
        "outputId": "861e8558-6a1b-4e5e-e970-0534cf33fc4e",
        "colab": {
          "base_uri": "https://localhost:8080/",
          "height": 0
        }
      },
      "source": [
        "[i*i for i in mylist if i%2==0]"
      ],
      "execution_count": 36,
      "outputs": [
        {
          "output_type": "execute_result",
          "data": {
            "text/plain": [
              "[4, 16, 36, 64]"
            ]
          },
          "metadata": {
            "tags": []
          },
          "execution_count": 36
        }
      ]
    },
    {
      "cell_type": "markdown",
      "metadata": {
        "id": "sO9yke57W7CY"
      },
      "source": [
        "***String Formatting in Python***"
      ]
    },
    {
      "cell_type": "code",
      "metadata": {
        "id": "2tlZ-GThXJBL"
      },
      "source": [
        "print(\"Hello every one\")"
      ],
      "execution_count": null,
      "outputs": []
    },
    {
      "cell_type": "code",
      "metadata": {
        "id": "rfWvFMPkYCip"
      },
      "source": [
        "def greeting(name):\n",
        "  return(\"Hello {}. welcome to the community\".format(name))"
      ],
      "execution_count": 37,
      "outputs": []
    },
    {
      "cell_type": "code",
      "metadata": {
        "id": "YSrtud9zYSrw",
        "outputId": "6f5c43bf-929b-4f03-ad8d-8a21ade9b650",
        "colab": {
          "base_uri": "https://localhost:8080/",
          "height": 35
        }
      },
      "source": [
        "greeting('Aditya')"
      ],
      "execution_count": 38,
      "outputs": [
        {
          "output_type": "execute_result",
          "data": {
            "application/vnd.google.colaboratory.intrinsic+json": {
              "type": "string"
            },
            "text/plain": [
              "'Hello Aditya. welcome to the community'"
            ]
          },
          "metadata": {
            "tags": []
          },
          "execution_count": 38
        }
      ]
    },
    {
      "cell_type": "code",
      "metadata": {
        "id": "bdyuu0HxYuX4"
      },
      "source": [
        "def  welcome_email(firstname, lastname):\n",
        "  return \"Welcome {}, {}\".format(firstname,lastname)"
      ],
      "execution_count": 39,
      "outputs": []
    },
    {
      "cell_type": "code",
      "metadata": {
        "id": "rFVSXZjmZHNS",
        "outputId": "6e23ddff-9c81-4bd2-e68d-8fdcf7647d45",
        "colab": {
          "base_uri": "https://localhost:8080/",
          "height": 35
        }
      },
      "source": [
        "welcome_email('Aditya','Prajapati')"
      ],
      "execution_count": 40,
      "outputs": [
        {
          "output_type": "execute_result",
          "data": {
            "application/vnd.google.colaboratory.intrinsic+json": {
              "type": "string"
            },
            "text/plain": [
              "'Welcome Aditya, Prajapati'"
            ]
          },
          "metadata": {
            "tags": []
          },
          "execution_count": 40
        }
      ]
    },
    {
      "cell_type": "markdown",
      "metadata": {
        "id": "Jj6DMM5xbGUn"
      },
      "source": [
        "*** Python List iterables vs iterators***"
      ]
    }
  ]
}