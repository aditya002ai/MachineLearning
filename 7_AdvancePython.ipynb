{
  "nbformat": 4,
  "nbformat_minor": 0,
  "metadata": {
    "colab": {
      "name": "7_AdvancePython.ipynb",
      "provenance": [],
      "authorship_tag": "ABX9TyPQh/sTGqIcvN9ld4aIXutm",
      "include_colab_link": true
    },
    "kernelspec": {
      "name": "python3",
      "display_name": "Python 3"
    },
    "language_info": {
      "name": "python"
    }
  },
  "cells": [
    {
      "cell_type": "markdown",
      "metadata": {
        "id": "view-in-github",
        "colab_type": "text"
      },
      "source": [
        "<a href=\"https://colab.research.google.com/github/aditya002ai/MachineLearning/blob/main/7_AdvancePython.ipynb\" target=\"_parent\"><img src=\"https://colab.research.google.com/assets/colab-badge.svg\" alt=\"Open In Colab\"/></a>"
      ]
    },
    {
      "cell_type": "markdown",
      "metadata": {
        "id": "BVVB84JVR8ZU"
      },
      "source": [
        "***Functions***"
      ]
    },
    {
      "cell_type": "code",
      "metadata": {
        "id": "IPZUQZ9GRd6F",
        "colab": {
          "base_uri": "https://localhost:8080/"
        },
        "outputId": "88fd652f-2c2e-4121-c052-0f9ae4872e4f"
      },
      "source": [
        "num = 2\n",
        "if num % 2==0:\n",
        "  print('Even Number')\n",
        "else:\n",
        "  print('Odd Number')\n"
      ],
      "execution_count": null,
      "outputs": [
        {
          "output_type": "stream",
          "text": [
            "Even Number\n"
          ],
          "name": "stdout"
        }
      ]
    },
    {
      "cell_type": "code",
      "metadata": {
        "id": "Rxrnph6CYX1N"
      },
      "source": [
        "def findOddEven(num):\n",
        "  if num%2==0:\n",
        "    print('Even')\n",
        "  else:\n",
        "    print('odd')\n"
      ],
      "execution_count": null,
      "outputs": []
    },
    {
      "cell_type": "code",
      "metadata": {
        "colab": {
          "base_uri": "https://localhost:8080/"
        },
        "id": "_2l02Xo8aNGY",
        "outputId": "8e7214d1-0ff7-4e32-bc94-710db4ec67d3"
      },
      "source": [
        "print(findOddEven(11))"
      ],
      "execution_count": null,
      "outputs": [
        {
          "output_type": "stream",
          "text": [
            "odd\n",
            "None\n"
          ],
          "name": "stdout"
        }
      ]
    },
    {
      "cell_type": "code",
      "metadata": {
        "id": "Jb1LqNZdaxH9"
      },
      "source": [
        "# print vs retur\n",
        "def myName(str):\n",
        "  # print(str)\n",
        "  return str"
      ],
      "execution_count": null,
      "outputs": []
    },
    {
      "cell_type": "code",
      "metadata": {
        "colab": {
          "base_uri": "https://localhost:8080/",
          "height": 35
        },
        "id": "mTV30viqbUSX",
        "outputId": "ededed62-9d52-4a01-ff27-1f8c47fd663b"
      },
      "source": [
        "myName('Aditya')"
      ],
      "execution_count": null,
      "outputs": [
        {
          "output_type": "execute_result",
          "data": {
            "application/vnd.google.colaboratory.intrinsic+json": {
              "type": "string"
            },
            "text/plain": [
              "'Aditya'"
            ]
          },
          "metadata": {
            "tags": []
          },
          "execution_count": 5
        }
      ]
    },
    {
      "cell_type": "code",
      "metadata": {
        "id": "G6YPN1FBcfNT"
      },
      "source": [
        "## ***Positional and keyword argument***\n",
        "\n",
        "def PositionalKeyWord(name, age =30):\n",
        "  print(\"My name is {} and my age is {}\".format(name,age))"
      ],
      "execution_count": null,
      "outputs": []
    },
    {
      "cell_type": "code",
      "metadata": {
        "colab": {
          "base_uri": "https://localhost:8080/"
        },
        "id": "G39EXyY_dCZa",
        "outputId": "f9285f0c-b18e-4e74-8202-019b539492c5"
      },
      "source": [
        "PositionalKeyWord('Adi')"
      ],
      "execution_count": null,
      "outputs": [
        {
          "output_type": "stream",
          "text": [
            "My name is Adi and my age is 30\n"
          ],
          "name": "stdout"
        }
      ]
    },
    {
      "cell_type": "code",
      "metadata": {
        "id": "GYeaawRDcmda"
      },
      "source": [
        "def hello(*args, **kwargd):\n",
        "\n",
        "  print(args)\n",
        "  print(kwargd)\n"
      ],
      "execution_count": null,
      "outputs": []
    },
    {
      "cell_type": "code",
      "metadata": {
        "colab": {
          "base_uri": "https://localhost:8080/"
        },
        "id": "QKxt8WzpUyV6",
        "outputId": "d675c1eb-5236-4325-d7bf-a4decabc0577"
      },
      "source": [
        "hello(\"Aditya\",\"Kumar\",age=29,dob=2012)"
      ],
      "execution_count": null,
      "outputs": [
        {
          "output_type": "stream",
          "text": [
            "('Aditya', 'Kumar')\n",
            "{'age': 29, 'dob': 2012}\n"
          ],
          "name": "stdout"
        }
      ]
    },
    {
      "cell_type": "code",
      "metadata": {
        "colab": {
          "base_uri": "https://localhost:8080/"
        },
        "id": "_tGuquwXVcM-",
        "outputId": "1bd2f9f1-44f4-48f1-f5e2-9921b3d82546"
      },
      "source": [
        "lst = [\"Adi\",\"Sonu\"]\n",
        "dist = {'age':30,'height':190}\n",
        "hello(*lst,**dist)"
      ],
      "execution_count": null,
      "outputs": [
        {
          "output_type": "stream",
          "text": [
            "('Adi', 'Sonu')\n",
            "{'age': 30, 'height': 190}\n"
          ],
          "name": "stdout"
        }
      ]
    },
    {
      "cell_type": "code",
      "metadata": {
        "colab": {
          "base_uri": "https://localhost:8080/"
        },
        "id": "Zu18-xCMWZpp",
        "outputId": "03b32bf8-affe-468e-94e6-cd93ca89b2f4"
      },
      "source": [
        "lst=[1,2,3,4,5,6,7,8,9,10]\n",
        "def evenoddsum(lst):\n",
        "  even = 0\n",
        "  odd = 0\n",
        "  for i in lst:\n",
        "    if i%2==0:\n",
        "      even = even+i\n",
        "    else:\n",
        "      odd = odd+i\n",
        "  return even,odd\n",
        "\n",
        "evenoddsum(lst)"
      ],
      "execution_count": null,
      "outputs": [
        {
          "output_type": "execute_result",
          "data": {
            "text/plain": [
              "(30, 25)"
            ]
          },
          "metadata": {
            "tags": []
          },
          "execution_count": 11
        }
      ]
    },
    {
      "cell_type": "markdown",
      "metadata": {
        "id": "ckrDXCbGakTv"
      },
      "source": [
        "***Lambda functions***"
      ]
    },
    {
      "cell_type": "code",
      "metadata": {
        "id": "KEzLcFrdmd3M"
      },
      "source": [
        "def additionNormal(a,b):\n",
        "  return a+b"
      ],
      "execution_count": null,
      "outputs": []
    },
    {
      "cell_type": "code",
      "metadata": {
        "colab": {
          "base_uri": "https://localhost:8080/"
        },
        "id": "p7qgNIGDnGwK",
        "outputId": "d6d7596a-bf12-4475-ba99-9c8e8eda8c7c"
      },
      "source": [
        "additionNormal(5,5)"
      ],
      "execution_count": null,
      "outputs": [
        {
          "output_type": "execute_result",
          "data": {
            "text/plain": [
              "10"
            ]
          },
          "metadata": {
            "tags": []
          },
          "execution_count": 13
        }
      ]
    },
    {
      "cell_type": "code",
      "metadata": {
        "id": "CEivZ_mOnMNP"
      },
      "source": [
        "addition = lambda a,b:a+b"
      ],
      "execution_count": null,
      "outputs": []
    },
    {
      "cell_type": "code",
      "metadata": {
        "colab": {
          "base_uri": "https://localhost:8080/"
        },
        "id": "0beA_OTbn7In",
        "outputId": "25a43dee-7ea2-4bf4-b30d-8f0d4cab0366"
      },
      "source": [
        "addition(4,3)"
      ],
      "execution_count": null,
      "outputs": [
        {
          "output_type": "execute_result",
          "data": {
            "text/plain": [
              "7"
            ]
          },
          "metadata": {
            "tags": []
          },
          "execution_count": 15
        }
      ]
    },
    {
      "cell_type": "code",
      "metadata": {
        "id": "BNYykuJrofnq"
      },
      "source": [
        "def even(num):\n",
        "  if num%2==0:\n",
        "    print('Even')\n",
        "  else :\n",
        "    print('odd')\n"
      ],
      "execution_count": null,
      "outputs": []
    },
    {
      "cell_type": "code",
      "metadata": {
        "colab": {
          "base_uri": "https://localhost:8080/"
        },
        "id": "eHuxBKadpDvu",
        "outputId": "d1409dbd-9319-447a-ad67-5b3c1c36042b"
      },
      "source": [
        "even(5)"
      ],
      "execution_count": null,
      "outputs": [
        {
          "output_type": "stream",
          "text": [
            "odd\n"
          ],
          "name": "stdout"
        }
      ]
    },
    {
      "cell_type": "code",
      "metadata": {
        "id": "jtV1U3xnp1wz"
      },
      "source": [
        "even1 = lambda num:num%2==0"
      ],
      "execution_count": null,
      "outputs": []
    },
    {
      "cell_type": "code",
      "metadata": {
        "colab": {
          "base_uri": "https://localhost:8080/"
        },
        "id": "zL7phbFsp9A9",
        "outputId": "9d7e8ffa-a0d3-4521-b983-78e7a5baa892"
      },
      "source": [
        "even1(5)"
      ],
      "execution_count": null,
      "outputs": [
        {
          "output_type": "execute_result",
          "data": {
            "text/plain": [
              "False"
            ]
          },
          "metadata": {
            "tags": []
          },
          "execution_count": 19
        }
      ]
    },
    {
      "cell_type": "code",
      "metadata": {
        "id": "Nyf63DvOrqUG"
      },
      "source": [
        "add = lambda a,b,c:a+b+c"
      ],
      "execution_count": null,
      "outputs": []
    },
    {
      "cell_type": "code",
      "metadata": {
        "colab": {
          "base_uri": "https://localhost:8080/"
        },
        "id": "kuz0H_f0sIUf",
        "outputId": "5f10ad81-40cb-4544-d5ca-5da22b95f1a0"
      },
      "source": [
        "add(2,2,2)"
      ],
      "execution_count": null,
      "outputs": [
        {
          "output_type": "execute_result",
          "data": {
            "text/plain": [
              "6"
            ]
          },
          "metadata": {
            "tags": []
          },
          "execution_count": 21
        }
      ]
    },
    {
      "cell_type": "markdown",
      "metadata": {
        "id": "rgXAYCBlyPqb"
      },
      "source": [
        "***Map Function ***"
      ]
    },
    {
      "cell_type": "code",
      "metadata": {
        "id": "2U1557OG8vxc"
      },
      "source": [
        "def findEven(num):\n",
        "  if num%2==0:\n",
        "    return \"The value of even number is {}\".format(num)\n",
        "  else:\n",
        "    return \"The value of odd number is {}\".format(num)"
      ],
      "execution_count": null,
      "outputs": []
    },
    {
      "cell_type": "code",
      "metadata": {
        "id": "5ao3sxTo9N1A",
        "colab": {
          "base_uri": "https://localhost:8080/",
          "height": 35
        },
        "outputId": "c94193ab-e2d0-4e3b-c1ea-8adb2e5b138c"
      },
      "source": [
        "findEven(11)"
      ],
      "execution_count": null,
      "outputs": [
        {
          "output_type": "execute_result",
          "data": {
            "application/vnd.google.colaboratory.intrinsic+json": {
              "type": "string"
            },
            "text/plain": [
              "'The value of odd number is 11'"
            ]
          },
          "metadata": {
            "tags": []
          },
          "execution_count": 23
        }
      ]
    },
    {
      "cell_type": "code",
      "metadata": {
        "id": "Kv34sV0Z9fX6",
        "colab": {
          "base_uri": "https://localhost:8080/",
          "height": 35
        },
        "outputId": "eb06e194-54a1-42cd-ff7b-f0c0ffeeef6b"
      },
      "source": [
        "findEven(13)"
      ],
      "execution_count": null,
      "outputs": [
        {
          "output_type": "execute_result",
          "data": {
            "application/vnd.google.colaboratory.intrinsic+json": {
              "type": "string"
            },
            "text/plain": [
              "'The value of odd number is 13'"
            ]
          },
          "metadata": {
            "tags": []
          },
          "execution_count": 24
        }
      ]
    },
    {
      "cell_type": "code",
      "metadata": {
        "id": "zFs2qosOJnJY",
        "colab": {
          "base_uri": "https://localhost:8080/"
        },
        "outputId": "67233cd8-8782-486d-8f6d-2afd93c605c6"
      },
      "source": [
        "lt = [1,2,3,4,5,6,78,11,22,33,44,55,66,77,89,8]\n",
        "value = list(map(findEven,lt))\n",
        "value\n"
      ],
      "execution_count": null,
      "outputs": [
        {
          "output_type": "execute_result",
          "data": {
            "text/plain": [
              "['The value of odd number is 1',\n",
              " 'The value of even number is 2',\n",
              " 'The value of odd number is 3',\n",
              " 'The value of even number is 4',\n",
              " 'The value of odd number is 5',\n",
              " 'The value of even number is 6',\n",
              " 'The value of even number is 78',\n",
              " 'The value of odd number is 11',\n",
              " 'The value of even number is 22',\n",
              " 'The value of odd number is 33',\n",
              " 'The value of even number is 44',\n",
              " 'The value of odd number is 55',\n",
              " 'The value of even number is 66',\n",
              " 'The value of odd number is 77',\n",
              " 'The value of odd number is 89',\n",
              " 'The value of even number is 8']"
            ]
          },
          "metadata": {
            "tags": []
          },
          "execution_count": 26
        }
      ]
    },
    {
      "cell_type": "markdown",
      "metadata": {
        "id": "IDT7LrjUPclu"
      },
      "source": [
        "***Filter function***"
      ]
    },
    {
      "cell_type": "code",
      "metadata": {
        "id": "2z1-gUW5Qyvo"
      },
      "source": [
        "def even(num):\n",
        "  if num%2==0:\n",
        "    return True"
      ],
      "execution_count": null,
      "outputs": []
    },
    {
      "cell_type": "code",
      "metadata": {
        "colab": {
          "base_uri": "https://localhost:8080/"
        },
        "id": "T06FPx1iM6gT",
        "outputId": "124f0a65-f5e6-4824-e182-3eb00a508bd3"
      },
      "source": [
        "list(filter(even,lt))"
      ],
      "execution_count": null,
      "outputs": [
        {
          "output_type": "execute_result",
          "data": {
            "text/plain": [
              "[2, 4, 6, 78, 22, 44, 66, 8]"
            ]
          },
          "metadata": {
            "tags": []
          },
          "execution_count": 29
        }
      ]
    },
    {
      "cell_type": "code",
      "metadata": {
        "colab": {
          "base_uri": "https://localhost:8080/"
        },
        "id": "z9iIlR6VRAp7",
        "outputId": "7c23202d-57b0-4fec-ee48-51220233ad8f"
      },
      "source": [
        "list(filter(lambda num:num%2==0,lt))"
      ],
      "execution_count": null,
      "outputs": [
        {
          "output_type": "execute_result",
          "data": {
            "text/plain": [
              "[2, 4, 6, 78, 22, 44, 66, 8]"
            ]
          },
          "metadata": {
            "tags": []
          },
          "execution_count": 30
        }
      ]
    },
    {
      "cell_type": "markdown",
      "metadata": {
        "id": "wIdIlHR3RaZG"
      },
      "source": [
        "***List Comprehension***  \n",
        "\n",
        "List Comprehesion provide a concise way to create lists."
      ]
    },
    {
      "cell_type": "code",
      "metadata": {
        "id": "O0XWhlOGRkbx"
      },
      "source": [
        "lst = []\n",
        "def lst_square(lst1):\n",
        "  for i in lst1:\n",
        "    lst.append(i*i)\n",
        "  return lst\n"
      ],
      "execution_count": null,
      "outputs": []
    },
    {
      "cell_type": "code",
      "metadata": {
        "colab": {
          "base_uri": "https://localhost:8080/"
        },
        "id": "xLsbbN7IUhcw",
        "outputId": "815cd8ce-326b-4211-b6ec-8bb852229879"
      },
      "source": [
        "lst_square([1,2,3,4,5,6,7,8,9])"
      ],
      "execution_count": null,
      "outputs": [
        {
          "output_type": "execute_result",
          "data": {
            "text/plain": [
              "[1, 4, 9, 16, 25, 36, 49, 64, 81]"
            ]
          },
          "metadata": {
            "tags": []
          },
          "execution_count": 34
        }
      ]
    },
    {
      "cell_type": "code",
      "metadata": {
        "colab": {
          "base_uri": "https://localhost:8080/"
        },
        "id": "aCXVOIj0VEGy",
        "outputId": "4fe93cfe-597f-4ceb-f02b-57b247d75c12"
      },
      "source": [
        "mylist = [1,2,3,4,5,6,7,8,9]\n",
        "[i*i for i in mylist]"
      ],
      "execution_count": null,
      "outputs": [
        {
          "output_type": "execute_result",
          "data": {
            "text/plain": [
              "[1, 4, 9, 16, 25, 36, 49, 64, 81]"
            ]
          },
          "metadata": {
            "tags": []
          },
          "execution_count": 35
        }
      ]
    },
    {
      "cell_type": "code",
      "metadata": {
        "colab": {
          "base_uri": "https://localhost:8080/"
        },
        "id": "0ow0ksq1WJGv",
        "outputId": "861e8558-6a1b-4e5e-e970-0534cf33fc4e"
      },
      "source": [
        "[i*i for i in mylist if i%2==0]"
      ],
      "execution_count": null,
      "outputs": [
        {
          "output_type": "execute_result",
          "data": {
            "text/plain": [
              "[4, 16, 36, 64]"
            ]
          },
          "metadata": {
            "tags": []
          },
          "execution_count": 36
        }
      ]
    },
    {
      "cell_type": "markdown",
      "metadata": {
        "id": "sO9yke57W7CY"
      },
      "source": [
        "***String Formatting in Python***"
      ]
    },
    {
      "cell_type": "code",
      "metadata": {
        "id": "2tlZ-GThXJBL"
      },
      "source": [
        "print(\"Hello every one\")"
      ],
      "execution_count": null,
      "outputs": []
    },
    {
      "cell_type": "code",
      "metadata": {
        "id": "rfWvFMPkYCip"
      },
      "source": [
        "def greeting(name):\n",
        "  return(\"Hello {}. welcome to the community\".format(name))"
      ],
      "execution_count": null,
      "outputs": []
    },
    {
      "cell_type": "code",
      "metadata": {
        "colab": {
          "base_uri": "https://localhost:8080/",
          "height": 35
        },
        "id": "YSrtud9zYSrw",
        "outputId": "6f5c43bf-929b-4f03-ad8d-8a21ade9b650"
      },
      "source": [
        "greeting('Aditya')"
      ],
      "execution_count": null,
      "outputs": [
        {
          "output_type": "execute_result",
          "data": {
            "application/vnd.google.colaboratory.intrinsic+json": {
              "type": "string"
            },
            "text/plain": [
              "'Hello Aditya. welcome to the community'"
            ]
          },
          "metadata": {
            "tags": []
          },
          "execution_count": 38
        }
      ]
    },
    {
      "cell_type": "code",
      "metadata": {
        "id": "bdyuu0HxYuX4"
      },
      "source": [
        "def  welcome_email(firstname, lastname):\n",
        "  return \"Welcome {}, {}\".format(firstname,lastname)"
      ],
      "execution_count": null,
      "outputs": []
    },
    {
      "cell_type": "code",
      "metadata": {
        "colab": {
          "base_uri": "https://localhost:8080/",
          "height": 35
        },
        "id": "rFVSXZjmZHNS",
        "outputId": "6e23ddff-9c81-4bd2-e68d-8fdcf7647d45"
      },
      "source": [
        "welcome_email('Aditya','Prajapati')"
      ],
      "execution_count": null,
      "outputs": [
        {
          "output_type": "execute_result",
          "data": {
            "application/vnd.google.colaboratory.intrinsic+json": {
              "type": "string"
            },
            "text/plain": [
              "'Welcome Aditya, Prajapati'"
            ]
          },
          "metadata": {
            "tags": []
          },
          "execution_count": 40
        }
      ]
    },
    {
      "cell_type": "markdown",
      "metadata": {
        "id": "Jj6DMM5xbGUn"
      },
      "source": [
        "*** Python List iterables vs iterators***"
      ]
    },
    {
      "cell_type": "markdown",
      "metadata": {
        "id": "GBPVBpJUr_eX"
      },
      "source": [
        "list is iterable, all this values will be allocated to memory location"
      ]
    },
    {
      "cell_type": "code",
      "metadata": {
        "id": "bIbnhrkvn19C",
        "colab": {
          "base_uri": "https://localhost:8080/"
        },
        "outputId": "f4ed0721-1271-4800-c9ee-270250b5651c"
      },
      "source": [
        "lst = [1,2,3,4,5,6,7,8,9]\n",
        "for i in lst:\n",
        "  print(i)"
      ],
      "execution_count": null,
      "outputs": [
        {
          "output_type": "stream",
          "text": [
            "1\n",
            "2\n",
            "3\n",
            "4\n",
            "5\n",
            "6\n",
            "7\n",
            "8\n",
            "9\n"
          ],
          "name": "stdout"
        }
      ]
    },
    {
      "cell_type": "code",
      "metadata": {
        "id": "tSPu1OXssnwK",
        "colab": {
          "base_uri": "https://localhost:8080/"
        },
        "outputId": "bd9146b6-4419-462d-f65b-663b222c3e0c"
      },
      "source": [
        "#  convet list into iterator, not all value store in the memory location, as soon as we call next() function then one one value gets stores into the memory location\n",
        "lst1 = iter(lst)\n",
        "next(lst1)\n",
        "next(lst1)\n"
      ],
      "execution_count": null,
      "outputs": [
        {
          "output_type": "execute_result",
          "data": {
            "text/plain": [
              "2"
            ]
          },
          "metadata": {
            "tags": []
          },
          "execution_count": 50
        }
      ]
    },
    {
      "cell_type": "code",
      "metadata": {
        "id": "KpE8OVC3t2Kc",
        "colab": {
          "base_uri": "https://localhost:8080/"
        },
        "outputId": "955e22c1-3927-4e20-ed53-a709f4957c5e"
      },
      "source": [
        "for i in lst1:\n",
        "  print(i)"
      ],
      "execution_count": null,
      "outputs": [
        {
          "output_type": "stream",
          "text": [
            "3\n",
            "4\n",
            "5\n",
            "6\n",
            "7\n",
            "8\n",
            "9\n"
          ],
          "name": "stdout"
        }
      ]
    },
    {
      "cell_type": "markdown",
      "metadata": {
        "id": "ZZNOojf-wxT6"
      },
      "source": [
        "***Pyforest - lazy import of all python Data Science library***\n",
        "if you install this library then all python library you can access without import."
      ]
    },
    {
      "cell_type": "code",
      "metadata": {
        "id": "OC6-k8InxYrF",
        "colab": {
          "base_uri": "https://localhost:8080/"
        },
        "outputId": "5149bdfc-3e57-4820-e709-3f01ffc3380f"
      },
      "source": [
        "pip install pyforest\n"
      ],
      "execution_count": null,
      "outputs": [
        {
          "output_type": "stream",
          "text": [
            "Collecting pyforest\n",
            "  Downloading https://files.pythonhosted.org/packages/8f/85/77a9d2d9ff240822039f3dfd7a3b374d0621a0df5feb5d270a2151f6bb6d/pyforest-1.0.3.tar.gz\n",
            "Building wheels for collected packages: pyforest\n",
            "  Building wheel for pyforest (setup.py) ... \u001b[?25l\u001b[?25hdone\n",
            "  Created wheel for pyforest: filename=pyforest-1.0.3-py2.py3-none-any.whl size=13716 sha256=8323f03e30b6e8f61ba3863532af31f4015ef1b8a464817c9e6cfe54fa3f3e0f\n",
            "  Stored in directory: /root/.cache/pip/wheels/af/0b/39/340a7f15fc8d4ff5ab50847b28789afea04452a9d51b9721b5\n",
            "Successfully built pyforest\n",
            "Installing collected packages: pyforest\n",
            "Successfully installed pyforest-1.0.3\n"
          ],
          "name": "stdout"
        }
      ]
    },
    {
      "cell_type": "code",
      "metadata": {
        "id": "B2UWpU0Bxeia"
      },
      "source": [
        "lst1 = [1,2,3,4,5]\n",
        "lst2 = [4,3,2,1,8]\n",
        "# plt.plot(lst1,lst2)\n",
        "# plt.show()"
      ],
      "execution_count": null,
      "outputs": []
    },
    {
      "cell_type": "markdown",
      "metadata": {
        "id": "AATJF4xC1lSw"
      },
      "source": [
        "Class in python"
      ]
    },
    {
      "cell_type": "code",
      "metadata": {
        "id": "qEBkAN0Y1ku2"
      },
      "source": [
        "class Car:\n",
        "  pass"
      ],
      "execution_count": null,
      "outputs": []
    },
    {
      "cell_type": "code",
      "metadata": {
        "id": "a1V3ezU-112m",
        "colab": {
          "base_uri": "https://localhost:8080/"
        },
        "outputId": "4f4550fe-8c88-4892-cef6-6d48fdb9f5dc"
      },
      "source": [
        "car1 = Car()\n",
        "car1"
      ],
      "execution_count": null,
      "outputs": [
        {
          "output_type": "execute_result",
          "data": {
            "text/plain": [
              "<__main__.Car at 0x7ff9ad0d3190>"
            ]
          },
          "metadata": {
            "tags": []
          },
          "execution_count": 4
        }
      ]
    },
    {
      "cell_type": "code",
      "metadata": {
        "id": "-V96v38Q2uqo",
        "colab": {
          "base_uri": "https://localhost:8080/"
        },
        "outputId": "0d97be98-eafc-414b-b5d5-66e134c8058e"
      },
      "source": [
        "car1.windows = 5\n",
        "car1.door = 2\n",
        "print(car1.windows)"
      ],
      "execution_count": null,
      "outputs": [
        {
          "output_type": "stream",
          "text": [
            "5\n"
          ],
          "name": "stdout"
        }
      ]
    },
    {
      "cell_type": "code",
      "metadata": {
        "id": "xtE3RlT-28S6",
        "colab": {
          "base_uri": "https://localhost:8080/"
        },
        "outputId": "c192a975-9501-49e0-9300-7813b327e1a5"
      },
      "source": [
        "dir(car1)"
      ],
      "execution_count": null,
      "outputs": [
        {
          "output_type": "execute_result",
          "data": {
            "text/plain": [
              "['__class__',\n",
              " '__delattr__',\n",
              " '__dict__',\n",
              " '__dir__',\n",
              " '__doc__',\n",
              " '__eq__',\n",
              " '__format__',\n",
              " '__ge__',\n",
              " '__getattribute__',\n",
              " '__gt__',\n",
              " '__hash__',\n",
              " '__init__',\n",
              " '__init_subclass__',\n",
              " '__le__',\n",
              " '__lt__',\n",
              " '__module__',\n",
              " '__ne__',\n",
              " '__new__',\n",
              " '__reduce__',\n",
              " '__reduce_ex__',\n",
              " '__repr__',\n",
              " '__setattr__',\n",
              " '__sizeof__',\n",
              " '__str__',\n",
              " '__subclasshook__',\n",
              " '__weakref__',\n",
              " 'door',\n",
              " 'windows']"
            ]
          },
          "metadata": {
            "tags": []
          },
          "execution_count": 8
        }
      ]
    },
    {
      "cell_type": "code",
      "metadata": {
        "id": "IM6FufEy36WN"
      },
      "source": [
        "class ArtificialIntelligence:\n",
        "  def __init__(self,python,machineLearning,deepLearning):\n",
        "    self.language1=python\n",
        "    self.language2=machineLearning\n",
        "    self.language3=deepLearning\n",
        "  \n",
        "  def bestLanguage(self):\n",
        "    return 'You should have knowledge of {},{},{}'.format(self.language1,self.language2,self.language3)"
      ],
      "execution_count": null,
      "outputs": []
    },
    {
      "cell_type": "code",
      "metadata": {
        "id": "JXeVEt8vCdLg"
      },
      "source": [
        ""
      ],
      "execution_count": null,
      "outputs": []
    },
    {
      "cell_type": "code",
      "metadata": {
        "id": "VMnnLYD67tGA",
        "colab": {
          "base_uri": "https://localhost:8080/"
        },
        "outputId": "b685e461-505c-4bab-9a05-eaa49740fdcd"
      },
      "source": [
        "AI = ArtificialIntelligence('python',\"ML\",'DL')\n",
        "print(AI.language3)"
      ],
      "execution_count": null,
      "outputs": [
        {
          "output_type": "stream",
          "text": [
            "DL\n"
          ],
          "name": "stdout"
        }
      ]
    },
    {
      "cell_type": "code",
      "metadata": {
        "id": "wYb0h-jTCe34",
        "colab": {
          "base_uri": "https://localhost:8080/",
          "height": 35
        },
        "outputId": "7db9b545-6bf7-4d94-c3ab-80aa3a52478f"
      },
      "source": [
        "AI.bestLanguage()"
      ],
      "execution_count": null,
      "outputs": [
        {
          "output_type": "execute_result",
          "data": {
            "application/vnd.google.colaboratory.intrinsic+json": {
              "type": "string"
            },
            "text/plain": [
              "'You should have knowledge of python,ML,DL'"
            ]
          },
          "metadata": {
            "tags": []
          },
          "execution_count": 18
        }
      ]
    },
    {
      "cell_type": "markdown",
      "metadata": {
        "id": "x4ZYsfUFml6Q"
      },
      "source": [
        "***Exception Handling***"
      ]
    },
    {
      "cell_type": "code",
      "metadata": {
        "colab": {
          "base_uri": "https://localhost:8080/"
        },
        "id": "bzsiOaIFmtUH",
        "outputId": "55c853ad-8f8a-4735-e93f-1cad017bae9c"
      },
      "source": [
        "try:\n",
        "  # a=b\n",
        "  print(\"hi\")\n",
        "\n",
        "except NameError as ex1:\n",
        "  print(ex1)\n",
        "\n",
        "except Exception as ex:\n",
        "  print(ex)\n",
        "else:\n",
        "  print(\"try block executed success\")\n",
        "finally:\n",
        "  print(' finally print')"
      ],
      "execution_count": 6,
      "outputs": [
        {
          "output_type": "stream",
          "text": [
            "hi\n",
            "try block executed success\n",
            " finally print\n"
          ],
          "name": "stdout"
        }
      ]
    },
    {
      "cell_type": "code",
      "metadata": {
        "id": "V0PdGGtvpC_O"
      },
      "source": [
        ""
      ],
      "execution_count": null,
      "outputs": []
    },
    {
      "cell_type": "markdown",
      "metadata": {
        "id": "95PwAolrpF_8"
      },
      "source": [
        "*Custome Exception Block*"
      ]
    },
    {
      "cell_type": "code",
      "metadata": {
        "id": "cHHplxd8n-eT"
      },
      "source": [
        "class Error(Exception):\n",
        "  pass\n",
        "class dobException(Error):\n",
        "  pass"
      ],
      "execution_count": 10,
      "outputs": []
    },
    {
      "cell_type": "code",
      "metadata": {
        "colab": {
          "base_uri": "https://localhost:8080/"
        },
        "id": "lQCp-ORDpxZT",
        "outputId": "7cee535a-f798-4b31-e13c-a431ea4dc9a2"
      },
      "source": [
        "year = int(input('Enter the age'))\n",
        "age = 2021-year\n",
        "try:\n",
        "  if age<=30 & age>20:\n",
        "    pass\n",
        "  else:\n",
        "    raise dobException\n",
        "except dobException:\n",
        "  print('Invalid age')\n",
        "\n"
      ],
      "execution_count": 11,
      "outputs": [
        {
          "output_type": "stream",
          "text": [
            "Enter the age31\n",
            "Invalid age\n"
          ],
          "name": "stdout"
        }
      ]
    },
    {
      "cell_type": "markdown",
      "metadata": {
        "id": "3uvdXCTkrHM9"
      },
      "source": [
        "*** public private protected access modifiers***"
      ]
    },
    {
      "cell_type": "code",
      "metadata": {
        "id": "Re4nylmWnCws"
      },
      "source": [
        "# public\n",
        "class Car():\n",
        "  def __init__(self,window,door,engin):\n",
        "    self.window=window\n",
        "    self.door=door\n",
        "    self.engin=engin"
      ],
      "execution_count": 12,
      "outputs": []
    },
    {
      "cell_type": "code",
      "metadata": {
        "id": "cZrPmHatr4yM"
      },
      "source": [
        "audi = Car(4,5,'Disel')"
      ],
      "execution_count": 13,
      "outputs": []
    },
    {
      "cell_type": "code",
      "metadata": {
        "id": "DPLL_zjvsAhC",
        "outputId": "a162fc1b-1938-4846-cd17-7c51cf3541ac",
        "colab": {
          "base_uri": "https://localhost:8080/"
        }
      },
      "source": [
        "audi.window"
      ],
      "execution_count": 14,
      "outputs": [
        {
          "output_type": "execute_result",
          "data": {
            "text/plain": [
              "4"
            ]
          },
          "metadata": {
            "tags": []
          },
          "execution_count": 14
        }
      ]
    },
    {
      "cell_type": "code",
      "metadata": {
        "id": "qtf4TVb9sDNC"
      },
      "source": [
        "audi.window=9"
      ],
      "execution_count": 15,
      "outputs": []
    },
    {
      "cell_type": "code",
      "metadata": {
        "id": "7BWg0n-xsGHm",
        "outputId": "2bf7de6d-fac8-49d3-aae7-d9ac771634fe",
        "colab": {
          "base_uri": "https://localhost:8080/"
        }
      },
      "source": [
        "audi.window"
      ],
      "execution_count": 16,
      "outputs": [
        {
          "output_type": "execute_result",
          "data": {
            "text/plain": [
              "9"
            ]
          },
          "metadata": {
            "tags": []
          },
          "execution_count": 16
        }
      ]
    },
    {
      "cell_type": "code",
      "metadata": {
        "id": "-TB35tS-sIkm"
      },
      "source": [
        "# protected\n",
        "class Car():\n",
        "  def __init__(self,window,door,engin):\n",
        "    self._window=window\n",
        "    self._door=door\n",
        "    self._engin=engin\n",
        "    "
      ],
      "execution_count": 17,
      "outputs": []
    },
    {
      "cell_type": "code",
      "metadata": {
        "id": "Pj9dmRV7s3RY"
      },
      "source": [
        "Tata = Car(3,5,'petrol')"
      ],
      "execution_count": 18,
      "outputs": []
    },
    {
      "cell_type": "code",
      "metadata": {
        "id": "UKm2Jjtes9MY"
      },
      "source": [
        "class Truck(Car):\n",
        "  def __init__(self,window,door,engin,horsepower):\n",
        "    super().__init__(window,door,engin)\n",
        "    self.horsepower=horsepower\n"
      ],
      "execution_count": 23,
      "outputs": []
    },
    {
      "cell_type": "code",
      "metadata": {
        "id": "9A4qFacvtBt5",
        "outputId": "bdb5be3b-c515-478c-f4f4-88350b27881d",
        "colab": {
          "base_uri": "https://localhost:8080/"
        }
      },
      "source": [
        "truck = Truck(4,5,'disel',4000)\n",
        "dir(truck)"
      ],
      "execution_count": 24,
      "outputs": [
        {
          "output_type": "execute_result",
          "data": {
            "text/plain": [
              "['__class__',\n",
              " '__delattr__',\n",
              " '__dict__',\n",
              " '__dir__',\n",
              " '__doc__',\n",
              " '__eq__',\n",
              " '__format__',\n",
              " '__ge__',\n",
              " '__getattribute__',\n",
              " '__gt__',\n",
              " '__hash__',\n",
              " '__init__',\n",
              " '__init_subclass__',\n",
              " '__le__',\n",
              " '__lt__',\n",
              " '__module__',\n",
              " '__ne__',\n",
              " '__new__',\n",
              " '__reduce__',\n",
              " '__reduce_ex__',\n",
              " '__repr__',\n",
              " '__setattr__',\n",
              " '__sizeof__',\n",
              " '__str__',\n",
              " '__subclasshook__',\n",
              " '__weakref__',\n",
              " '_door',\n",
              " '_engin',\n",
              " '_window',\n",
              " 'horsepower']"
            ]
          },
          "metadata": {
            "tags": []
          },
          "execution_count": 24
        }
      ]
    },
    {
      "cell_type": "code",
      "metadata": {
        "id": "NY0aDJGMxc5C",
        "outputId": "ef59e6b4-17ad-4029-f474-3912cd87c9f5",
        "colab": {
          "base_uri": "https://localhost:8080/"
        }
      },
      "source": [
        "truck._door"
      ],
      "execution_count": 27,
      "outputs": [
        {
          "output_type": "execute_result",
          "data": {
            "text/plain": [
              "8"
            ]
          },
          "metadata": {
            "tags": []
          },
          "execution_count": 27
        }
      ]
    },
    {
      "cell_type": "code",
      "metadata": {
        "id": "ewwqgvR3xnH1"
      },
      "source": [
        "## private\n",
        "class Car():\n",
        "  def __init__(self,window,door,engin):\n",
        "    self.__window=window\n",
        "    self.__door=door\n",
        "    self.__engin=engin"
      ],
      "execution_count": 28,
      "outputs": []
    },
    {
      "cell_type": "code",
      "metadata": {
        "id": "mRTibC7FxktR"
      },
      "source": [
        "audi = Car(4,6,'electric')"
      ],
      "execution_count": null,
      "outputs": []
    },
    {
      "cell_type": "code",
      "metadata": {
        "id": "ClyN62Kyxivs"
      },
      "source": [
        "audi.window = 10"
      ],
      "execution_count": 31,
      "outputs": []
    },
    {
      "cell_type": "code",
      "metadata": {
        "id": "8ZZkyk-YyCyh"
      },
      "source": [
        ""
      ],
      "execution_count": null,
      "outputs": []
    },
    {
      "cell_type": "code",
      "metadata": {
        "id": "Flp1m7usnvh7"
      },
      "source": [
        ""
      ],
      "execution_count": null,
      "outputs": []
    }
  ]
}