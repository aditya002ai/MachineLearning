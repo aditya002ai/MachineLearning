{
  "nbformat": 4,
  "nbformat_minor": 0,
  "metadata": {
    "colab": {
      "name": "7_AdvancePython.ipynb",
      "provenance": [],
      "authorship_tag": "ABX9TyNu911Nzy2lGSCKmgK96x5k",
      "include_colab_link": true
    },
    "kernelspec": {
      "name": "python3",
      "display_name": "Python 3"
    },
    "language_info": {
      "name": "python"
    }
  },
  "cells": [
    {
      "cell_type": "markdown",
      "metadata": {
        "id": "view-in-github",
        "colab_type": "text"
      },
      "source": [
        "<a href=\"https://colab.research.google.com/github/aditya002ai/MachineLearning/blob/main/7_AdvancePython.ipynb\" target=\"_parent\"><img src=\"https://colab.research.google.com/assets/colab-badge.svg\" alt=\"Open In Colab\"/></a>"
      ]
    },
    {
      "cell_type": "markdown",
      "metadata": {
        "id": "BVVB84JVR8ZU"
      },
      "source": [
        "***Functions***"
      ]
    },
    {
      "cell_type": "code",
      "metadata": {
        "id": "IPZUQZ9GRd6F",
        "colab": {
          "base_uri": "https://localhost:8080/"
        },
        "outputId": "753eaf3c-e3df-4bf0-9f07-0d032bd574be"
      },
      "source": [
        "num = 11\n",
        "if num % 2==0:\n",
        "  print('Even Number')\n",
        "else:\n",
        "  print('Odd Number')\n"
      ],
      "execution_count": null,
      "outputs": [
        {
          "output_type": "stream",
          "text": [
            "Odd Number\n"
          ],
          "name": "stdout"
        }
      ]
    }
  ]
}